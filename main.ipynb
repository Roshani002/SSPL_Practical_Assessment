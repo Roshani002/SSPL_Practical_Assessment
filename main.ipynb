{
 "cells": [
  {
   "cell_type": "markdown",
   "id": "ad04109f",
   "metadata": {},
   "source": [
    "# Customer Analytics for a Telecom Provider"
   ]
  },
  {
   "cell_type": "markdown",
   "id": "520babd4",
   "metadata": {},
   "source": [
    "### Importing Libraries"
   ]
  },
  {
   "cell_type": "code",
   "execution_count": 1,
   "id": "6eb12d1b",
   "metadata": {},
   "outputs": [
    {
     "name": "stdout",
     "output_type": "stream",
     "text": [
      "Requirement already satisfied: numpy in d:\\acedamics\\sculptsoft\\sspl_internship_daily_log_ local\\practical_assessment\\customer_analytics_for_telecom_provider\\.venv\\lib\\site-packages (from -r requirements.txt (line 1)) (2.2.6)\n",
      "Requirement already satisfied: pandas in d:\\acedamics\\sculptsoft\\sspl_internship_daily_log_ local\\practical_assessment\\customer_analytics_for_telecom_provider\\.venv\\lib\\site-packages (from -r requirements.txt (line 2)) (2.3.1)\n",
      "Requirement already satisfied: matplotlib in d:\\acedamics\\sculptsoft\\sspl_internship_daily_log_ local\\practical_assessment\\customer_analytics_for_telecom_provider\\.venv\\lib\\site-packages (from -r requirements.txt (line 3)) (3.10.5)\n",
      "Requirement already satisfied: scikit-learn in d:\\acedamics\\sculptsoft\\sspl_internship_daily_log_ local\\practical_assessment\\customer_analytics_for_telecom_provider\\.venv\\lib\\site-packages (from -r requirements.txt (line 4)) (1.7.1)\n",
      "Requirement already satisfied: seaborn in d:\\acedamics\\sculptsoft\\sspl_internship_daily_log_ local\\practical_assessment\\customer_analytics_for_telecom_provider\\.venv\\lib\\site-packages (from -r requirements.txt (line 5)) (0.13.2)\n",
      "Requirement already satisfied: plotly in d:\\acedamics\\sculptsoft\\sspl_internship_daily_log_ local\\practical_assessment\\customer_analytics_for_telecom_provider\\.venv\\lib\\site-packages (from -r requirements.txt (line 6)) (6.2.0)\n",
      "Requirement already satisfied: nbformat in d:\\acedamics\\sculptsoft\\sspl_internship_daily_log_ local\\practical_assessment\\customer_analytics_for_telecom_provider\\.venv\\lib\\site-packages (from -r requirements.txt (line 7)) (5.10.4)\n",
      "Requirement already satisfied: python-dateutil>=2.8.2 in d:\\acedamics\\sculptsoft\\sspl_internship_daily_log_ local\\practical_assessment\\customer_analytics_for_telecom_provider\\.venv\\lib\\site-packages (from pandas->-r requirements.txt (line 2)) (2.9.0.post0)\n",
      "Requirement already satisfied: pytz>=2020.1 in d:\\acedamics\\sculptsoft\\sspl_internship_daily_log_ local\\practical_assessment\\customer_analytics_for_telecom_provider\\.venv\\lib\\site-packages (from pandas->-r requirements.txt (line 2)) (2025.2)\n",
      "Requirement already satisfied: tzdata>=2022.7 in d:\\acedamics\\sculptsoft\\sspl_internship_daily_log_ local\\practical_assessment\\customer_analytics_for_telecom_provider\\.venv\\lib\\site-packages (from pandas->-r requirements.txt (line 2)) (2025.2)\n",
      "Requirement already satisfied: contourpy>=1.0.1 in d:\\acedamics\\sculptsoft\\sspl_internship_daily_log_ local\\practical_assessment\\customer_analytics_for_telecom_provider\\.venv\\lib\\site-packages (from matplotlib->-r requirements.txt (line 3)) (1.3.2)\n",
      "Requirement already satisfied: cycler>=0.10 in d:\\acedamics\\sculptsoft\\sspl_internship_daily_log_ local\\practical_assessment\\customer_analytics_for_telecom_provider\\.venv\\lib\\site-packages (from matplotlib->-r requirements.txt (line 3)) (0.12.1)\n",
      "Requirement already satisfied: fonttools>=4.22.0 in d:\\acedamics\\sculptsoft\\sspl_internship_daily_log_ local\\practical_assessment\\customer_analytics_for_telecom_provider\\.venv\\lib\\site-packages (from matplotlib->-r requirements.txt (line 3)) (4.59.0)\n",
      "Requirement already satisfied: kiwisolver>=1.3.1 in d:\\acedamics\\sculptsoft\\sspl_internship_daily_log_ local\\practical_assessment\\customer_analytics_for_telecom_provider\\.venv\\lib\\site-packages (from matplotlib->-r requirements.txt (line 3)) (1.4.8)\n",
      "Requirement already satisfied: packaging>=20.0 in d:\\acedamics\\sculptsoft\\sspl_internship_daily_log_ local\\practical_assessment\\customer_analytics_for_telecom_provider\\.venv\\lib\\site-packages (from matplotlib->-r requirements.txt (line 3)) (25.0)\n",
      "Requirement already satisfied: pillow>=8 in d:\\acedamics\\sculptsoft\\sspl_internship_daily_log_ local\\practical_assessment\\customer_analytics_for_telecom_provider\\.venv\\lib\\site-packages (from matplotlib->-r requirements.txt (line 3)) (11.3.0)\n",
      "Requirement already satisfied: pyparsing>=2.3.1 in d:\\acedamics\\sculptsoft\\sspl_internship_daily_log_ local\\practical_assessment\\customer_analytics_for_telecom_provider\\.venv\\lib\\site-packages (from matplotlib->-r requirements.txt (line 3)) (3.2.3)\n",
      "Requirement already satisfied: scipy>=1.8.0 in d:\\acedamics\\sculptsoft\\sspl_internship_daily_log_ local\\practical_assessment\\customer_analytics_for_telecom_provider\\.venv\\lib\\site-packages (from scikit-learn->-r requirements.txt (line 4)) (1.15.3)\n",
      "Requirement already satisfied: joblib>=1.2.0 in d:\\acedamics\\sculptsoft\\sspl_internship_daily_log_ local\\practical_assessment\\customer_analytics_for_telecom_provider\\.venv\\lib\\site-packages (from scikit-learn->-r requirements.txt (line 4)) (1.5.1)\n",
      "Requirement already satisfied: threadpoolctl>=3.1.0 in d:\\acedamics\\sculptsoft\\sspl_internship_daily_log_ local\\practical_assessment\\customer_analytics_for_telecom_provider\\.venv\\lib\\site-packages (from scikit-learn->-r requirements.txt (line 4)) (3.6.0)\n",
      "Requirement already satisfied: narwhals>=1.15.1 in d:\\acedamics\\sculptsoft\\sspl_internship_daily_log_ local\\practical_assessment\\customer_analytics_for_telecom_provider\\.venv\\lib\\site-packages (from plotly->-r requirements.txt (line 6)) (2.0.1)\n",
      "Requirement already satisfied: fastjsonschema>=2.15 in d:\\acedamics\\sculptsoft\\sspl_internship_daily_log_ local\\practical_assessment\\customer_analytics_for_telecom_provider\\.venv\\lib\\site-packages (from nbformat->-r requirements.txt (line 7)) (2.21.1)\n",
      "Requirement already satisfied: jsonschema>=2.6 in d:\\acedamics\\sculptsoft\\sspl_internship_daily_log_ local\\practical_assessment\\customer_analytics_for_telecom_provider\\.venv\\lib\\site-packages (from nbformat->-r requirements.txt (line 7)) (4.25.0)\n",
      "Requirement already satisfied: jupyter-core!=5.0.*,>=4.12 in d:\\acedamics\\sculptsoft\\sspl_internship_daily_log_ local\\practical_assessment\\customer_analytics_for_telecom_provider\\.venv\\lib\\site-packages (from nbformat->-r requirements.txt (line 7)) (5.8.1)\n",
      "Requirement already satisfied: traitlets>=5.1 in d:\\acedamics\\sculptsoft\\sspl_internship_daily_log_ local\\practical_assessment\\customer_analytics_for_telecom_provider\\.venv\\lib\\site-packages (from nbformat->-r requirements.txt (line 7)) (5.14.3)\n",
      "Requirement already satisfied: attrs>=22.2.0 in d:\\acedamics\\sculptsoft\\sspl_internship_daily_log_ local\\practical_assessment\\customer_analytics_for_telecom_provider\\.venv\\lib\\site-packages (from jsonschema>=2.6->nbformat->-r requirements.txt (line 7)) (25.3.0)\n",
      "Requirement already satisfied: jsonschema-specifications>=2023.03.6 in d:\\acedamics\\sculptsoft\\sspl_internship_daily_log_ local\\practical_assessment\\customer_analytics_for_telecom_provider\\.venv\\lib\\site-packages (from jsonschema>=2.6->nbformat->-r requirements.txt (line 7)) (2025.4.1)\n",
      "Requirement already satisfied: referencing>=0.28.4 in d:\\acedamics\\sculptsoft\\sspl_internship_daily_log_ local\\practical_assessment\\customer_analytics_for_telecom_provider\\.venv\\lib\\site-packages (from jsonschema>=2.6->nbformat->-r requirements.txt (line 7)) (0.36.2)\n",
      "Requirement already satisfied: rpds-py>=0.7.1 in d:\\acedamics\\sculptsoft\\sspl_internship_daily_log_ local\\practical_assessment\\customer_analytics_for_telecom_provider\\.venv\\lib\\site-packages (from jsonschema>=2.6->nbformat->-r requirements.txt (line 7)) (0.26.0)\n",
      "Requirement already satisfied: platformdirs>=2.5 in d:\\acedamics\\sculptsoft\\sspl_internship_daily_log_ local\\practical_assessment\\customer_analytics_for_telecom_provider\\.venv\\lib\\site-packages (from jupyter-core!=5.0.*,>=4.12->nbformat->-r requirements.txt (line 7)) (4.3.8)\n",
      "Requirement already satisfied: pywin32>=300 in d:\\acedamics\\sculptsoft\\sspl_internship_daily_log_ local\\practical_assessment\\customer_analytics_for_telecom_provider\\.venv\\lib\\site-packages (from jupyter-core!=5.0.*,>=4.12->nbformat->-r requirements.txt (line 7)) (311)\n",
      "Requirement already satisfied: six>=1.5 in d:\\acedamics\\sculptsoft\\sspl_internship_daily_log_ local\\practical_assessment\\customer_analytics_for_telecom_provider\\.venv\\lib\\site-packages (from python-dateutil>=2.8.2->pandas->-r requirements.txt (line 2)) (1.17.0)\n",
      "Requirement already satisfied: typing-extensions>=4.4.0 in d:\\acedamics\\sculptsoft\\sspl_internship_daily_log_ local\\practical_assessment\\customer_analytics_for_telecom_provider\\.venv\\lib\\site-packages (from referencing>=0.28.4->jsonschema>=2.6->nbformat->-r requirements.txt (line 7)) (4.14.1)\n",
      "Note: you may need to restart the kernel to use updated packages.\n"
     ]
    }
   ],
   "source": [
    "pip install -r requirements.txt"
   ]
  },
  {
   "cell_type": "code",
   "execution_count": 2,
   "id": "01e53ef1",
   "metadata": {},
   "outputs": [],
   "source": [
    "import numpy as np\n",
    "import pandas as pd\n",
    "import matplotlib.pyplot as plt\n",
    "import seaborn as sns\n",
    "import plotly.express as px\n",
    "import plotly.graph_objects as go\n",
    "from plotly.subplots import make_subplots"
   ]
  },
  {
   "cell_type": "markdown",
   "id": "06cc9152",
   "metadata": {},
   "source": [
    "### Load Dataset"
   ]
  },
  {
   "cell_type": "code",
   "execution_count": 3,
   "id": "4b7b8abf",
   "metadata": {},
   "outputs": [
    {
     "data": {
      "text/html": [
       "<div>\n",
       "<style scoped>\n",
       "    .dataframe tbody tr th:only-of-type {\n",
       "        vertical-align: middle;\n",
       "    }\n",
       "\n",
       "    .dataframe tbody tr th {\n",
       "        vertical-align: top;\n",
       "    }\n",
       "\n",
       "    .dataframe thead th {\n",
       "        text-align: right;\n",
       "    }\n",
       "</style>\n",
       "<table border=\"1\" class=\"dataframe\">\n",
       "  <thead>\n",
       "    <tr style=\"text-align: right;\">\n",
       "      <th></th>\n",
       "      <th>customerID</th>\n",
       "      <th>gender</th>\n",
       "      <th>SeniorCitizen</th>\n",
       "      <th>Partner</th>\n",
       "      <th>Dependents</th>\n",
       "      <th>tenure</th>\n",
       "      <th>PhoneService</th>\n",
       "      <th>MultipleLines</th>\n",
       "      <th>InternetService</th>\n",
       "      <th>OnlineSecurity</th>\n",
       "      <th>OnlineBackup</th>\n",
       "      <th>DeviceProtection</th>\n",
       "      <th>TechSupport</th>\n",
       "      <th>StreamingTV</th>\n",
       "      <th>StreamingMovies</th>\n",
       "      <th>Contract</th>\n",
       "      <th>PaperlessBilling</th>\n",
       "      <th>PaymentMethod</th>\n",
       "      <th>MonthlyCharges</th>\n",
       "      <th>Churn</th>\n",
       "    </tr>\n",
       "  </thead>\n",
       "  <tbody>\n",
       "    <tr>\n",
       "      <th>0</th>\n",
       "      <td>CUST00001</td>\n",
       "      <td>Male</td>\n",
       "      <td>0</td>\n",
       "      <td>Yes</td>\n",
       "      <td>No</td>\n",
       "      <td>54</td>\n",
       "      <td>No</td>\n",
       "      <td>No phone service</td>\n",
       "      <td>Fiber optic</td>\n",
       "      <td>No internet service</td>\n",
       "      <td>Yes</td>\n",
       "      <td>No internet service</td>\n",
       "      <td>Yes</td>\n",
       "      <td>No internet service</td>\n",
       "      <td>No internet service</td>\n",
       "      <td>Two year</td>\n",
       "      <td>Yes</td>\n",
       "      <td>Mailed check</td>\n",
       "      <td>96.48</td>\n",
       "      <td>No</td>\n",
       "    </tr>\n",
       "    <tr>\n",
       "      <th>1</th>\n",
       "      <td>CUST00002</td>\n",
       "      <td>Female</td>\n",
       "      <td>0</td>\n",
       "      <td>No</td>\n",
       "      <td>No</td>\n",
       "      <td>35</td>\n",
       "      <td>Yes</td>\n",
       "      <td>No</td>\n",
       "      <td>No</td>\n",
       "      <td>Yes</td>\n",
       "      <td>No</td>\n",
       "      <td>Yes</td>\n",
       "      <td>Yes</td>\n",
       "      <td>No</td>\n",
       "      <td>No internet service</td>\n",
       "      <td>One year</td>\n",
       "      <td>No</td>\n",
       "      <td>Credit card (automatic)</td>\n",
       "      <td>87.58</td>\n",
       "      <td>No</td>\n",
       "    </tr>\n",
       "    <tr>\n",
       "      <th>2</th>\n",
       "      <td>CUST00003</td>\n",
       "      <td>Male</td>\n",
       "      <td>0</td>\n",
       "      <td>Yes</td>\n",
       "      <td>No</td>\n",
       "      <td>36</td>\n",
       "      <td>Yes</td>\n",
       "      <td>No phone service</td>\n",
       "      <td>No</td>\n",
       "      <td>No internet service</td>\n",
       "      <td>No internet service</td>\n",
       "      <td>No internet service</td>\n",
       "      <td>Yes</td>\n",
       "      <td>Yes</td>\n",
       "      <td>Yes</td>\n",
       "      <td>Month-to-month</td>\n",
       "      <td>No</td>\n",
       "      <td>Bank transfer (automatic)</td>\n",
       "      <td>79.78</td>\n",
       "      <td>No</td>\n",
       "    </tr>\n",
       "    <tr>\n",
       "      <th>3</th>\n",
       "      <td>CUST00004</td>\n",
       "      <td>Male</td>\n",
       "      <td>0</td>\n",
       "      <td>No</td>\n",
       "      <td>Yes</td>\n",
       "      <td>13</td>\n",
       "      <td>No</td>\n",
       "      <td>No phone service</td>\n",
       "      <td>Fiber optic</td>\n",
       "      <td>No</td>\n",
       "      <td>Yes</td>\n",
       "      <td>No</td>\n",
       "      <td>No</td>\n",
       "      <td>No internet service</td>\n",
       "      <td>No internet service</td>\n",
       "      <td>One year</td>\n",
       "      <td>Yes</td>\n",
       "      <td>Bank transfer (automatic)</td>\n",
       "      <td>112.28</td>\n",
       "      <td>Yes</td>\n",
       "    </tr>\n",
       "    <tr>\n",
       "      <th>4</th>\n",
       "      <td>CUST00005</td>\n",
       "      <td>Male</td>\n",
       "      <td>1</td>\n",
       "      <td>No</td>\n",
       "      <td>Yes</td>\n",
       "      <td>26</td>\n",
       "      <td>Yes</td>\n",
       "      <td>No</td>\n",
       "      <td>Fiber optic</td>\n",
       "      <td>No</td>\n",
       "      <td>Yes</td>\n",
       "      <td>No</td>\n",
       "      <td>No</td>\n",
       "      <td>No internet service</td>\n",
       "      <td>No internet service</td>\n",
       "      <td>Month-to-month</td>\n",
       "      <td>Yes</td>\n",
       "      <td>Mailed check</td>\n",
       "      <td>45.77</td>\n",
       "      <td>Yes</td>\n",
       "    </tr>\n",
       "  </tbody>\n",
       "</table>\n",
       "</div>"
      ],
      "text/plain": [
       "  customerID  gender  SeniorCitizen Partner Dependents  tenure PhoneService  \\\n",
       "0  CUST00001    Male              0     Yes         No      54           No   \n",
       "1  CUST00002  Female              0      No         No      35          Yes   \n",
       "2  CUST00003    Male              0     Yes         No      36          Yes   \n",
       "3  CUST00004    Male              0      No        Yes      13           No   \n",
       "4  CUST00005    Male              1      No        Yes      26          Yes   \n",
       "\n",
       "      MultipleLines InternetService       OnlineSecurity         OnlineBackup  \\\n",
       "0  No phone service     Fiber optic  No internet service                  Yes   \n",
       "1                No              No                  Yes                   No   \n",
       "2  No phone service              No  No internet service  No internet service   \n",
       "3  No phone service     Fiber optic                   No                  Yes   \n",
       "4                No     Fiber optic                   No                  Yes   \n",
       "\n",
       "      DeviceProtection TechSupport          StreamingTV      StreamingMovies  \\\n",
       "0  No internet service         Yes  No internet service  No internet service   \n",
       "1                  Yes         Yes                   No  No internet service   \n",
       "2  No internet service         Yes                  Yes                  Yes   \n",
       "3                   No          No  No internet service  No internet service   \n",
       "4                   No          No  No internet service  No internet service   \n",
       "\n",
       "         Contract PaperlessBilling              PaymentMethod  MonthlyCharges  \\\n",
       "0        Two year              Yes               Mailed check           96.48   \n",
       "1        One year               No    Credit card (automatic)           87.58   \n",
       "2  Month-to-month               No  Bank transfer (automatic)           79.78   \n",
       "3        One year              Yes  Bank transfer (automatic)          112.28   \n",
       "4  Month-to-month              Yes               Mailed check           45.77   \n",
       "\n",
       "  Churn  \n",
       "0    No  \n",
       "1    No  \n",
       "2    No  \n",
       "3   Yes  \n",
       "4   Yes  "
      ]
     },
     "execution_count": 3,
     "metadata": {},
     "output_type": "execute_result"
    }
   ],
   "source": [
    "df = pd.read_csv(\"dataset/telecom_customer_data.csv\")\n",
    "df.head()"
   ]
  },
  {
   "cell_type": "markdown",
   "id": "c7bdfbf6",
   "metadata": {},
   "source": [
    "### Info about data"
   ]
  },
  {
   "cell_type": "code",
   "execution_count": 4,
   "id": "e72ec263",
   "metadata": {},
   "outputs": [
    {
     "name": "stdout",
     "output_type": "stream",
     "text": [
      "<class 'pandas.core.frame.DataFrame'>\n",
      "RangeIndex: 5000 entries, 0 to 4999\n",
      "Data columns (total 20 columns):\n",
      " #   Column            Non-Null Count  Dtype  \n",
      "---  ------            --------------  -----  \n",
      " 0   customerID        5000 non-null   object \n",
      " 1   gender            5000 non-null   object \n",
      " 2   SeniorCitizen     5000 non-null   int64  \n",
      " 3   Partner           5000 non-null   object \n",
      " 4   Dependents        5000 non-null   object \n",
      " 5   tenure            5000 non-null   int64  \n",
      " 6   PhoneService      5000 non-null   object \n",
      " 7   MultipleLines     5000 non-null   object \n",
      " 8   InternetService   5000 non-null   object \n",
      " 9   OnlineSecurity    5000 non-null   object \n",
      " 10  OnlineBackup      5000 non-null   object \n",
      " 11  DeviceProtection  5000 non-null   object \n",
      " 12  TechSupport       5000 non-null   object \n",
      " 13  StreamingTV       5000 non-null   object \n",
      " 14  StreamingMovies   5000 non-null   object \n",
      " 15  Contract          5000 non-null   object \n",
      " 16  PaperlessBilling  5000 non-null   object \n",
      " 17  PaymentMethod     5000 non-null   object \n",
      " 18  MonthlyCharges    5000 non-null   float64\n",
      " 19  Churn             5000 non-null   object \n",
      "dtypes: float64(1), int64(2), object(17)\n",
      "memory usage: 781.4+ KB\n"
     ]
    }
   ],
   "source": [
    "df.info()"
   ]
  },
  {
   "cell_type": "markdown",
   "id": "65a72bdd",
   "metadata": {},
   "source": [
    "### Descriptive Statistics of data"
   ]
  },
  {
   "cell_type": "code",
   "execution_count": 5,
   "id": "c55b6664",
   "metadata": {},
   "outputs": [
    {
     "data": {
      "text/html": [
       "<div>\n",
       "<style scoped>\n",
       "    .dataframe tbody tr th:only-of-type {\n",
       "        vertical-align: middle;\n",
       "    }\n",
       "\n",
       "    .dataframe tbody tr th {\n",
       "        vertical-align: top;\n",
       "    }\n",
       "\n",
       "    .dataframe thead th {\n",
       "        text-align: right;\n",
       "    }\n",
       "</style>\n",
       "<table border=\"1\" class=\"dataframe\">\n",
       "  <thead>\n",
       "    <tr style=\"text-align: right;\">\n",
       "      <th></th>\n",
       "      <th>count</th>\n",
       "      <th>mean</th>\n",
       "      <th>std</th>\n",
       "      <th>min</th>\n",
       "      <th>25%</th>\n",
       "      <th>50%</th>\n",
       "      <th>75%</th>\n",
       "      <th>max</th>\n",
       "    </tr>\n",
       "  </thead>\n",
       "  <tbody>\n",
       "    <tr>\n",
       "      <th>SeniorCitizen</th>\n",
       "      <td>5000.0</td>\n",
       "      <td>0.498200</td>\n",
       "      <td>0.500047</td>\n",
       "      <td>0.0</td>\n",
       "      <td>0.0000</td>\n",
       "      <td>0.000</td>\n",
       "      <td>1.000</td>\n",
       "      <td>1.0</td>\n",
       "    </tr>\n",
       "    <tr>\n",
       "      <th>tenure</th>\n",
       "      <td>5000.0</td>\n",
       "      <td>35.828400</td>\n",
       "      <td>20.994340</td>\n",
       "      <td>0.0</td>\n",
       "      <td>17.7500</td>\n",
       "      <td>36.000</td>\n",
       "      <td>54.000</td>\n",
       "      <td>72.0</td>\n",
       "    </tr>\n",
       "    <tr>\n",
       "      <th>MonthlyCharges</th>\n",
       "      <td>5000.0</td>\n",
       "      <td>70.229976</td>\n",
       "      <td>27.907778</td>\n",
       "      <td>18.0</td>\n",
       "      <td>49.4375</td>\n",
       "      <td>70.185</td>\n",
       "      <td>90.895</td>\n",
       "      <td>120.0</td>\n",
       "    </tr>\n",
       "  </tbody>\n",
       "</table>\n",
       "</div>"
      ],
      "text/plain": [
       "                 count       mean        std   min      25%     50%     75%  \\\n",
       "SeniorCitizen   5000.0   0.498200   0.500047   0.0   0.0000   0.000   1.000   \n",
       "tenure          5000.0  35.828400  20.994340   0.0  17.7500  36.000  54.000   \n",
       "MonthlyCharges  5000.0  70.229976  27.907778  18.0  49.4375  70.185  90.895   \n",
       "\n",
       "                  max  \n",
       "SeniorCitizen     1.0  \n",
       "tenure           72.0  \n",
       "MonthlyCharges  120.0  "
      ]
     },
     "execution_count": 5,
     "metadata": {},
     "output_type": "execute_result"
    }
   ],
   "source": [
    "df.describe().T"
   ]
  },
  {
   "cell_type": "code",
   "execution_count": 6,
   "id": "52506a9e",
   "metadata": {},
   "outputs": [
    {
     "data": {
      "text/html": [
       "<div>\n",
       "<style scoped>\n",
       "    .dataframe tbody tr th:only-of-type {\n",
       "        vertical-align: middle;\n",
       "    }\n",
       "\n",
       "    .dataframe tbody tr th {\n",
       "        vertical-align: top;\n",
       "    }\n",
       "\n",
       "    .dataframe thead th {\n",
       "        text-align: right;\n",
       "    }\n",
       "</style>\n",
       "<table border=\"1\" class=\"dataframe\">\n",
       "  <thead>\n",
       "    <tr style=\"text-align: right;\">\n",
       "      <th></th>\n",
       "      <th>count</th>\n",
       "      <th>unique</th>\n",
       "      <th>top</th>\n",
       "      <th>freq</th>\n",
       "    </tr>\n",
       "  </thead>\n",
       "  <tbody>\n",
       "    <tr>\n",
       "      <th>customerID</th>\n",
       "      <td>5000</td>\n",
       "      <td>5000</td>\n",
       "      <td>CUST05000</td>\n",
       "      <td>1</td>\n",
       "    </tr>\n",
       "    <tr>\n",
       "      <th>gender</th>\n",
       "      <td>5000</td>\n",
       "      <td>2</td>\n",
       "      <td>Male</td>\n",
       "      <td>2504</td>\n",
       "    </tr>\n",
       "    <tr>\n",
       "      <th>Partner</th>\n",
       "      <td>5000</td>\n",
       "      <td>2</td>\n",
       "      <td>Yes</td>\n",
       "      <td>2508</td>\n",
       "    </tr>\n",
       "    <tr>\n",
       "      <th>Dependents</th>\n",
       "      <td>5000</td>\n",
       "      <td>2</td>\n",
       "      <td>No</td>\n",
       "      <td>2501</td>\n",
       "    </tr>\n",
       "    <tr>\n",
       "      <th>PhoneService</th>\n",
       "      <td>5000</td>\n",
       "      <td>2</td>\n",
       "      <td>No</td>\n",
       "      <td>2542</td>\n",
       "    </tr>\n",
       "    <tr>\n",
       "      <th>MultipleLines</th>\n",
       "      <td>5000</td>\n",
       "      <td>3</td>\n",
       "      <td>No phone service</td>\n",
       "      <td>1712</td>\n",
       "    </tr>\n",
       "    <tr>\n",
       "      <th>InternetService</th>\n",
       "      <td>5000</td>\n",
       "      <td>3</td>\n",
       "      <td>DSL</td>\n",
       "      <td>1782</td>\n",
       "    </tr>\n",
       "    <tr>\n",
       "      <th>OnlineSecurity</th>\n",
       "      <td>5000</td>\n",
       "      <td>3</td>\n",
       "      <td>No internet service</td>\n",
       "      <td>1740</td>\n",
       "    </tr>\n",
       "    <tr>\n",
       "      <th>OnlineBackup</th>\n",
       "      <td>5000</td>\n",
       "      <td>3</td>\n",
       "      <td>No</td>\n",
       "      <td>1690</td>\n",
       "    </tr>\n",
       "    <tr>\n",
       "      <th>DeviceProtection</th>\n",
       "      <td>5000</td>\n",
       "      <td>3</td>\n",
       "      <td>No</td>\n",
       "      <td>1755</td>\n",
       "    </tr>\n",
       "    <tr>\n",
       "      <th>TechSupport</th>\n",
       "      <td>5000</td>\n",
       "      <td>3</td>\n",
       "      <td>No</td>\n",
       "      <td>1694</td>\n",
       "    </tr>\n",
       "    <tr>\n",
       "      <th>StreamingTV</th>\n",
       "      <td>5000</td>\n",
       "      <td>3</td>\n",
       "      <td>Yes</td>\n",
       "      <td>1692</td>\n",
       "    </tr>\n",
       "    <tr>\n",
       "      <th>StreamingMovies</th>\n",
       "      <td>5000</td>\n",
       "      <td>3</td>\n",
       "      <td>Yes</td>\n",
       "      <td>1679</td>\n",
       "    </tr>\n",
       "    <tr>\n",
       "      <th>Contract</th>\n",
       "      <td>5000</td>\n",
       "      <td>3</td>\n",
       "      <td>Month-to-month</td>\n",
       "      <td>1696</td>\n",
       "    </tr>\n",
       "    <tr>\n",
       "      <th>PaperlessBilling</th>\n",
       "      <td>5000</td>\n",
       "      <td>2</td>\n",
       "      <td>Yes</td>\n",
       "      <td>2512</td>\n",
       "    </tr>\n",
       "    <tr>\n",
       "      <th>PaymentMethod</th>\n",
       "      <td>5000</td>\n",
       "      <td>4</td>\n",
       "      <td>Credit card (automatic)</td>\n",
       "      <td>1258</td>\n",
       "    </tr>\n",
       "    <tr>\n",
       "      <th>Churn</th>\n",
       "      <td>5000</td>\n",
       "      <td>2</td>\n",
       "      <td>No</td>\n",
       "      <td>3652</td>\n",
       "    </tr>\n",
       "  </tbody>\n",
       "</table>\n",
       "</div>"
      ],
      "text/plain": [
       "                 count unique                      top  freq\n",
       "customerID        5000   5000                CUST05000     1\n",
       "gender            5000      2                     Male  2504\n",
       "Partner           5000      2                      Yes  2508\n",
       "Dependents        5000      2                       No  2501\n",
       "PhoneService      5000      2                       No  2542\n",
       "MultipleLines     5000      3         No phone service  1712\n",
       "InternetService   5000      3                      DSL  1782\n",
       "OnlineSecurity    5000      3      No internet service  1740\n",
       "OnlineBackup      5000      3                       No  1690\n",
       "DeviceProtection  5000      3                       No  1755\n",
       "TechSupport       5000      3                       No  1694\n",
       "StreamingTV       5000      3                      Yes  1692\n",
       "StreamingMovies   5000      3                      Yes  1679\n",
       "Contract          5000      3           Month-to-month  1696\n",
       "PaperlessBilling  5000      2                      Yes  2512\n",
       "PaymentMethod     5000      4  Credit card (automatic)  1258\n",
       "Churn             5000      2                       No  3652"
      ]
     },
     "execution_count": 6,
     "metadata": {},
     "output_type": "execute_result"
    }
   ],
   "source": [
    "df.describe(include=['object']).T"
   ]
  },
  {
   "cell_type": "code",
   "execution_count": 7,
   "id": "399e3d82",
   "metadata": {},
   "outputs": [
    {
     "data": {
      "text/plain": [
       "Churn\n",
       "No     3652\n",
       "Yes    1348\n",
       "Name: count, dtype: int64"
      ]
     },
     "execution_count": 7,
     "metadata": {},
     "output_type": "execute_result"
    }
   ],
   "source": [
    "df['Churn'].value_counts()"
   ]
  },
  {
   "cell_type": "markdown",
   "id": "5377221e",
   "metadata": {},
   "source": [
    "so, here data is imbalanced"
   ]
  },
  {
   "cell_type": "code",
   "execution_count": 8,
   "id": "d53f8afa",
   "metadata": {},
   "outputs": [],
   "source": [
    "df1 = df.copy()"
   ]
  },
  {
   "cell_type": "markdown",
   "id": "2046c5da",
   "metadata": {},
   "source": [
    "### Finding Duplicates"
   ]
  },
  {
   "cell_type": "code",
   "execution_count": 9,
   "id": "55bc6b08",
   "metadata": {},
   "outputs": [
    {
     "data": {
      "text/plain": [
       "np.False_"
      ]
     },
     "execution_count": 9,
     "metadata": {},
     "output_type": "execute_result"
    }
   ],
   "source": [
    "df1.duplicated().any()"
   ]
  },
  {
   "cell_type": "markdown",
   "id": "dc6548a7",
   "metadata": {},
   "source": [
    "So, here are no duplicate entries."
   ]
  },
  {
   "cell_type": "markdown",
   "id": "ebf2bc04",
   "metadata": {},
   "source": [
    "### Dropping unnecessary column"
   ]
  },
  {
   "cell_type": "code",
   "execution_count": 10,
   "id": "36cca6c1",
   "metadata": {},
   "outputs": [],
   "source": [
    "df1.drop('customerID', axis=1, inplace=True)"
   ]
  },
  {
   "cell_type": "markdown",
   "id": "6fb29264",
   "metadata": {},
   "source": [
    "### Finding Missing Values"
   ]
  },
  {
   "cell_type": "code",
   "execution_count": 11,
   "id": "2e7fb7a9",
   "metadata": {},
   "outputs": [
    {
     "data": {
      "text/plain": [
       "gender              0\n",
       "SeniorCitizen       0\n",
       "Partner             0\n",
       "Dependents          0\n",
       "tenure              0\n",
       "PhoneService        0\n",
       "MultipleLines       0\n",
       "InternetService     0\n",
       "OnlineSecurity      0\n",
       "OnlineBackup        0\n",
       "DeviceProtection    0\n",
       "TechSupport         0\n",
       "StreamingTV         0\n",
       "StreamingMovies     0\n",
       "Contract            0\n",
       "PaperlessBilling    0\n",
       "PaymentMethod       0\n",
       "MonthlyCharges      0\n",
       "Churn               0\n",
       "dtype: int64"
      ]
     },
     "execution_count": 11,
     "metadata": {},
     "output_type": "execute_result"
    }
   ],
   "source": [
    "# checking missing values before removing whitespaces\n",
    "df1.isnull().sum()"
   ]
  },
  {
   "cell_type": "code",
   "execution_count": 12,
   "id": "c67d1bcd",
   "metadata": {},
   "outputs": [],
   "source": [
    "# Remove leading/trailing whitespaces from all object columns.\n",
    "# This helps detect hidden missing values like '   ' or 'NaN ' (with spaces), which are strings and not recognized as actual NaN by pandas.\n",
    "for column in df1.select_dtypes(include=['object']).columns:\n",
    "    df1[column] = df1[column].str.strip()"
   ]
  },
  {
   "cell_type": "code",
   "execution_count": 13,
   "id": "849e5ea9",
   "metadata": {},
   "outputs": [
    {
     "data": {
      "text/plain": [
       "gender              0\n",
       "SeniorCitizen       0\n",
       "Partner             0\n",
       "Dependents          0\n",
       "tenure              0\n",
       "PhoneService        0\n",
       "MultipleLines       0\n",
       "InternetService     0\n",
       "OnlineSecurity      0\n",
       "OnlineBackup        0\n",
       "DeviceProtection    0\n",
       "TechSupport         0\n",
       "StreamingTV         0\n",
       "StreamingMovies     0\n",
       "Contract            0\n",
       "PaperlessBilling    0\n",
       "PaymentMethod       0\n",
       "MonthlyCharges      0\n",
       "Churn               0\n",
       "dtype: int64"
      ]
     },
     "execution_count": 13,
     "metadata": {},
     "output_type": "execute_result"
    }
   ],
   "source": [
    "# checking missing values after removing whitespaces\n",
    "df1.isnull().sum()"
   ]
  },
  {
   "cell_type": "markdown",
   "id": "74edeff7",
   "metadata": {},
   "source": [
    "So, Here no missing values present."
   ]
  },
  {
   "cell_type": "markdown",
   "id": "ffb5939b",
   "metadata": {},
   "source": [
    "### Finding Outliers"
   ]
  },
  {
   "cell_type": "markdown",
   "id": "d789d4e0",
   "metadata": {},
   "source": [
    "#### Separating numerical columns and categorical columns"
   ]
  },
  {
   "cell_type": "code",
   "execution_count": 14,
   "id": "62b24e77",
   "metadata": {},
   "outputs": [
    {
     "name": "stdout",
     "output_type": "stream",
     "text": [
      "['gender', 'Partner', 'Dependents', 'PhoneService', 'MultipleLines', 'InternetService', 'OnlineSecurity', 'OnlineBackup', 'DeviceProtection', 'TechSupport', 'StreamingTV', 'StreamingMovies', 'Contract', 'PaperlessBilling', 'PaymentMethod', 'Churn']\n"
     ]
    }
   ],
   "source": [
    "numerical_cols = ['tenure','MonthlyCharges','SeniorCitizen']\n",
    "categorical_cols = []\n",
    "for col in df1.columns:\n",
    "    if col not in numerical_cols:\n",
    "        categorical_cols.append(col)\n",
    "print(categorical_cols)"
   ]
  },
  {
   "cell_type": "markdown",
   "id": "1e160c53",
   "metadata": {},
   "source": [
    "#### Finding outliers using boxplot in numerical columns"
   ]
  },
  {
   "cell_type": "code",
   "execution_count": 15,
   "id": "88056f27",
   "metadata": {},
   "outputs": [
    {
     "data": {
      "application/vnd.plotly.v1+json": {
       "config": {
        "plotlyServerURL": "https://plot.ly"
       },
       "data": [
        {
         "alignmentgroup": "True",
         "hovertemplate": "tenure=%{x}<extra></extra>",
         "legendgroup": "",
         "marker": {
          "color": "#636efa"
         },
         "name": "",
         "notched": false,
         "offsetgroup": "",
         "orientation": "h",
         "showlegend": false,
         "type": "box",
         "x": {
          "bdata": "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",
          "dtype": "i1"
         },
         "x0": " ",
         "xaxis": "x",
         "y0": " ",
         "yaxis": "y"
        },
        {
         "alignmentgroup": "True",
         "hovertemplate": "MonthlyCharges=%{x}<extra></extra>",
         "legendgroup": "",
         "marker": {
          "color": "#636efa"
         },
         "name": "",
         "notched": false,
         "offsetgroup": "",
         "orientation": "h",
         "showlegend": false,
         "type": "box",
         "x": {
          "bdata": "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",
          "dtype": "f8"
         },
         "x0": " ",
         "xaxis": "x2",
         "y0": " ",
         "yaxis": "y2"
        },
        {
         "alignmentgroup": "True",
         "hovertemplate": "SeniorCitizen=%{x}<extra></extra>",
         "legendgroup": "",
         "marker": {
          "color": "#636efa"
         },
         "name": "",
         "notched": false,
         "offsetgroup": "",
         "orientation": "h",
         "showlegend": false,
         "type": "box",
         "x": {
          "bdata": "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",
          "dtype": "i1"
         },
         "x0": " ",
         "xaxis": "x3",
         "y0": " ",
         "yaxis": "y3"
        }
       ],
       "layout": {
        "annotations": [
         {
          "font": {
           "size": 16
          },
          "showarrow": false,
          "text": "tenure",
          "x": 0.14444444444444446,
          "xanchor": "center",
          "xref": "paper",
          "y": 1,
          "yanchor": "bottom",
          "yref": "paper"
         },
         {
          "font": {
           "size": 16
          },
          "showarrow": false,
          "text": "MonthlyCharges",
          "x": 0.5,
          "xanchor": "center",
          "xref": "paper",
          "y": 1,
          "yanchor": "bottom",
          "yref": "paper"
         },
         {
          "font": {
           "size": 16
          },
          "showarrow": false,
          "text": "SeniorCitizen",
          "x": 0.8555555555555556,
          "xanchor": "center",
          "xref": "paper",
          "y": 1,
          "yanchor": "bottom",
          "yref": "paper"
         }
        ],
        "height": 500,
        "showlegend": false,
        "template": {
         "data": {
          "bar": [
           {
            "error_x": {
             "color": "#2a3f5f"
            },
            "error_y": {
             "color": "#2a3f5f"
            },
            "marker": {
             "line": {
              "color": "#E5ECF6",
              "width": 0.5
             },
             "pattern": {
              "fillmode": "overlay",
              "size": 10,
              "solidity": 0.2
             }
            },
            "type": "bar"
           }
          ],
          "barpolar": [
           {
            "marker": {
             "line": {
              "color": "#E5ECF6",
              "width": 0.5
             },
             "pattern": {
              "fillmode": "overlay",
              "size": 10,
              "solidity": 0.2
             }
            },
            "type": "barpolar"
           }
          ],
          "carpet": [
           {
            "aaxis": {
             "endlinecolor": "#2a3f5f",
             "gridcolor": "white",
             "linecolor": "white",
             "minorgridcolor": "white",
             "startlinecolor": "#2a3f5f"
            },
            "baxis": {
             "endlinecolor": "#2a3f5f",
             "gridcolor": "white",
             "linecolor": "white",
             "minorgridcolor": "white",
             "startlinecolor": "#2a3f5f"
            },
            "type": "carpet"
           }
          ],
          "choropleth": [
           {
            "colorbar": {
             "outlinewidth": 0,
             "ticks": ""
            },
            "type": "choropleth"
           }
          ],
          "contour": [
           {
            "colorbar": {
             "outlinewidth": 0,
             "ticks": ""
            },
            "colorscale": [
             [
              0,
              "#0d0887"
             ],
             [
              0.1111111111111111,
              "#46039f"
             ],
             [
              0.2222222222222222,
              "#7201a8"
             ],
             [
              0.3333333333333333,
              "#9c179e"
             ],
             [
              0.4444444444444444,
              "#bd3786"
             ],
             [
              0.5555555555555556,
              "#d8576b"
             ],
             [
              0.6666666666666666,
              "#ed7953"
             ],
             [
              0.7777777777777778,
              "#fb9f3a"
             ],
             [
              0.8888888888888888,
              "#fdca26"
             ],
             [
              1,
              "#f0f921"
             ]
            ],
            "type": "contour"
           }
          ],
          "contourcarpet": [
           {
            "colorbar": {
             "outlinewidth": 0,
             "ticks": ""
            },
            "type": "contourcarpet"
           }
          ],
          "heatmap": [
           {
            "colorbar": {
             "outlinewidth": 0,
             "ticks": ""
            },
            "colorscale": [
             [
              0,
              "#0d0887"
             ],
             [
              0.1111111111111111,
              "#46039f"
             ],
             [
              0.2222222222222222,
              "#7201a8"
             ],
             [
              0.3333333333333333,
              "#9c179e"
             ],
             [
              0.4444444444444444,
              "#bd3786"
             ],
             [
              0.5555555555555556,
              "#d8576b"
             ],
             [
              0.6666666666666666,
              "#ed7953"
             ],
             [
              0.7777777777777778,
              "#fb9f3a"
             ],
             [
              0.8888888888888888,
              "#fdca26"
             ],
             [
              1,
              "#f0f921"
             ]
            ],
            "type": "heatmap"
           }
          ],
          "histogram": [
           {
            "marker": {
             "pattern": {
              "fillmode": "overlay",
              "size": 10,
              "solidity": 0.2
             }
            },
            "type": "histogram"
           }
          ],
          "histogram2d": [
           {
            "colorbar": {
             "outlinewidth": 0,
             "ticks": ""
            },
            "colorscale": [
             [
              0,
              "#0d0887"
             ],
             [
              0.1111111111111111,
              "#46039f"
             ],
             [
              0.2222222222222222,
              "#7201a8"
             ],
             [
              0.3333333333333333,
              "#9c179e"
             ],
             [
              0.4444444444444444,
              "#bd3786"
             ],
             [
              0.5555555555555556,
              "#d8576b"
             ],
             [
              0.6666666666666666,
              "#ed7953"
             ],
             [
              0.7777777777777778,
              "#fb9f3a"
             ],
             [
              0.8888888888888888,
              "#fdca26"
             ],
             [
              1,
              "#f0f921"
             ]
            ],
            "type": "histogram2d"
           }
          ],
          "histogram2dcontour": [
           {
            "colorbar": {
             "outlinewidth": 0,
             "ticks": ""
            },
            "colorscale": [
             [
              0,
              "#0d0887"
             ],
             [
              0.1111111111111111,
              "#46039f"
             ],
             [
              0.2222222222222222,
              "#7201a8"
             ],
             [
              0.3333333333333333,
              "#9c179e"
             ],
             [
              0.4444444444444444,
              "#bd3786"
             ],
             [
              0.5555555555555556,
              "#d8576b"
             ],
             [
              0.6666666666666666,
              "#ed7953"
             ],
             [
              0.7777777777777778,
              "#fb9f3a"
             ],
             [
              0.8888888888888888,
              "#fdca26"
             ],
             [
              1,
              "#f0f921"
             ]
            ],
            "type": "histogram2dcontour"
           }
          ],
          "mesh3d": [
           {
            "colorbar": {
             "outlinewidth": 0,
             "ticks": ""
            },
            "type": "mesh3d"
           }
          ],
          "parcoords": [
           {
            "line": {
             "colorbar": {
              "outlinewidth": 0,
              "ticks": ""
             }
            },
            "type": "parcoords"
           }
          ],
          "pie": [
           {
            "automargin": true,
            "type": "pie"
           }
          ],
          "scatter": [
           {
            "fillpattern": {
             "fillmode": "overlay",
             "size": 10,
             "solidity": 0.2
            },
            "type": "scatter"
           }
          ],
          "scatter3d": [
           {
            "line": {
             "colorbar": {
              "outlinewidth": 0,
              "ticks": ""
             }
            },
            "marker": {
             "colorbar": {
              "outlinewidth": 0,
              "ticks": ""
             }
            },
            "type": "scatter3d"
           }
          ],
          "scattercarpet": [
           {
            "marker": {
             "colorbar": {
              "outlinewidth": 0,
              "ticks": ""
             }
            },
            "type": "scattercarpet"
           }
          ],
          "scattergeo": [
           {
            "marker": {
             "colorbar": {
              "outlinewidth": 0,
              "ticks": ""
             }
            },
            "type": "scattergeo"
           }
          ],
          "scattergl": [
           {
            "marker": {
             "colorbar": {
              "outlinewidth": 0,
              "ticks": ""
             }
            },
            "type": "scattergl"
           }
          ],
          "scattermap": [
           {
            "marker": {
             "colorbar": {
              "outlinewidth": 0,
              "ticks": ""
             }
            },
            "type": "scattermap"
           }
          ],
          "scattermapbox": [
           {
            "marker": {
             "colorbar": {
              "outlinewidth": 0,
              "ticks": ""
             }
            },
            "type": "scattermapbox"
           }
          ],
          "scatterpolar": [
           {
            "marker": {
             "colorbar": {
              "outlinewidth": 0,
              "ticks": ""
             }
            },
            "type": "scatterpolar"
           }
          ],
          "scatterpolargl": [
           {
            "marker": {
             "colorbar": {
              "outlinewidth": 0,
              "ticks": ""
             }
            },
            "type": "scatterpolargl"
           }
          ],
          "scatterternary": [
           {
            "marker": {
             "colorbar": {
              "outlinewidth": 0,
              "ticks": ""
             }
            },
            "type": "scatterternary"
           }
          ],
          "surface": [
           {
            "colorbar": {
             "outlinewidth": 0,
             "ticks": ""
            },
            "colorscale": [
             [
              0,
              "#0d0887"
             ],
             [
              0.1111111111111111,
              "#46039f"
             ],
             [
              0.2222222222222222,
              "#7201a8"
             ],
             [
              0.3333333333333333,
              "#9c179e"
             ],
             [
              0.4444444444444444,
              "#bd3786"
             ],
             [
              0.5555555555555556,
              "#d8576b"
             ],
             [
              0.6666666666666666,
              "#ed7953"
             ],
             [
              0.7777777777777778,
              "#fb9f3a"
             ],
             [
              0.8888888888888888,
              "#fdca26"
             ],
             [
              1,
              "#f0f921"
             ]
            ],
            "type": "surface"
           }
          ],
          "table": [
           {
            "cells": {
             "fill": {
              "color": "#EBF0F8"
             },
             "line": {
              "color": "white"
             }
            },
            "header": {
             "fill": {
              "color": "#C8D4E3"
             },
             "line": {
              "color": "white"
             }
            },
            "type": "table"
           }
          ]
         },
         "layout": {
          "annotationdefaults": {
           "arrowcolor": "#2a3f5f",
           "arrowhead": 0,
           "arrowwidth": 1
          },
          "autotypenumbers": "strict",
          "coloraxis": {
           "colorbar": {
            "outlinewidth": 0,
            "ticks": ""
           }
          },
          "colorscale": {
           "diverging": [
            [
             0,
             "#8e0152"
            ],
            [
             0.1,
             "#c51b7d"
            ],
            [
             0.2,
             "#de77ae"
            ],
            [
             0.3,
             "#f1b6da"
            ],
            [
             0.4,
             "#fde0ef"
            ],
            [
             0.5,
             "#f7f7f7"
            ],
            [
             0.6,
             "#e6f5d0"
            ],
            [
             0.7,
             "#b8e186"
            ],
            [
             0.8,
             "#7fbc41"
            ],
            [
             0.9,
             "#4d9221"
            ],
            [
             1,
             "#276419"
            ]
           ],
           "sequential": [
            [
             0,
             "#0d0887"
            ],
            [
             0.1111111111111111,
             "#46039f"
            ],
            [
             0.2222222222222222,
             "#7201a8"
            ],
            [
             0.3333333333333333,
             "#9c179e"
            ],
            [
             0.4444444444444444,
             "#bd3786"
            ],
            [
             0.5555555555555556,
             "#d8576b"
            ],
            [
             0.6666666666666666,
             "#ed7953"
            ],
            [
             0.7777777777777778,
             "#fb9f3a"
            ],
            [
             0.8888888888888888,
             "#fdca26"
            ],
            [
             1,
             "#f0f921"
            ]
           ],
           "sequentialminus": [
            [
             0,
             "#0d0887"
            ],
            [
             0.1111111111111111,
             "#46039f"
            ],
            [
             0.2222222222222222,
             "#7201a8"
            ],
            [
             0.3333333333333333,
             "#9c179e"
            ],
            [
             0.4444444444444444,
             "#bd3786"
            ],
            [
             0.5555555555555556,
             "#d8576b"
            ],
            [
             0.6666666666666666,
             "#ed7953"
            ],
            [
             0.7777777777777778,
             "#fb9f3a"
            ],
            [
             0.8888888888888888,
             "#fdca26"
            ],
            [
             1,
             "#f0f921"
            ]
           ]
          },
          "colorway": [
           "#636efa",
           "#EF553B",
           "#00cc96",
           "#ab63fa",
           "#FFA15A",
           "#19d3f3",
           "#FF6692",
           "#B6E880",
           "#FF97FF",
           "#FECB52"
          ],
          "font": {
           "color": "#2a3f5f"
          },
          "geo": {
           "bgcolor": "white",
           "lakecolor": "white",
           "landcolor": "#E5ECF6",
           "showlakes": true,
           "showland": true,
           "subunitcolor": "white"
          },
          "hoverlabel": {
           "align": "left"
          },
          "hovermode": "closest",
          "mapbox": {
           "style": "light"
          },
          "paper_bgcolor": "white",
          "plot_bgcolor": "#E5ECF6",
          "polar": {
           "angularaxis": {
            "gridcolor": "white",
            "linecolor": "white",
            "ticks": ""
           },
           "bgcolor": "#E5ECF6",
           "radialaxis": {
            "gridcolor": "white",
            "linecolor": "white",
            "ticks": ""
           }
          },
          "scene": {
           "xaxis": {
            "backgroundcolor": "#E5ECF6",
            "gridcolor": "white",
            "gridwidth": 2,
            "linecolor": "white",
            "showbackground": true,
            "ticks": "",
            "zerolinecolor": "white"
           },
           "yaxis": {
            "backgroundcolor": "#E5ECF6",
            "gridcolor": "white",
            "gridwidth": 2,
            "linecolor": "white",
            "showbackground": true,
            "ticks": "",
            "zerolinecolor": "white"
           },
           "zaxis": {
            "backgroundcolor": "#E5ECF6",
            "gridcolor": "white",
            "gridwidth": 2,
            "linecolor": "white",
            "showbackground": true,
            "ticks": "",
            "zerolinecolor": "white"
           }
          },
          "shapedefaults": {
           "line": {
            "color": "#2a3f5f"
           }
          },
          "ternary": {
           "aaxis": {
            "gridcolor": "white",
            "linecolor": "white",
            "ticks": ""
           },
           "baxis": {
            "gridcolor": "white",
            "linecolor": "white",
            "ticks": ""
           },
           "bgcolor": "#E5ECF6",
           "caxis": {
            "gridcolor": "white",
            "linecolor": "white",
            "ticks": ""
           }
          },
          "title": {
           "x": 0.05
          },
          "xaxis": {
           "automargin": true,
           "gridcolor": "white",
           "linecolor": "white",
           "ticks": "",
           "title": {
            "standoff": 15
           },
           "zerolinecolor": "white",
           "zerolinewidth": 2
          },
          "yaxis": {
           "automargin": true,
           "gridcolor": "white",
           "linecolor": "white",
           "ticks": "",
           "title": {
            "standoff": 15
           },
           "zerolinecolor": "white",
           "zerolinewidth": 2
          }
         }
        },
        "width": 1300,
        "xaxis": {
         "anchor": "y",
         "domain": [
          0,
          0.2888888888888889
         ]
        },
        "xaxis2": {
         "anchor": "y2",
         "domain": [
          0.35555555555555557,
          0.6444444444444445
         ]
        },
        "xaxis3": {
         "anchor": "y3",
         "domain": [
          0.7111111111111111,
          1
         ]
        },
        "yaxis": {
         "anchor": "x",
         "domain": [
          0,
          1
         ]
        },
        "yaxis2": {
         "anchor": "x2",
         "domain": [
          0,
          1
         ]
        },
        "yaxis3": {
         "anchor": "x3",
         "domain": [
          0,
          1
         ]
        }
       }
      }
     },
     "metadata": {},
     "output_type": "display_data"
    }
   ],
   "source": [
    "fig = make_subplots(rows=1, cols=3, subplot_titles=numerical_cols)\n",
    "for i, column in enumerate(numerical_cols):\n",
    "    row = 1\n",
    "    col = i + 1\n",
    "\n",
    "    boxplot = px.box(df1, x=column)\n",
    "    for trace in boxplot.data:\n",
    "        fig.add_trace(trace, row=row, col=col)\n",
    "fig.update_layout(height=500, width=1300, showlegend=False)"
   ]
  },
  {
   "cell_type": "markdown",
   "id": "b969fea8",
   "metadata": {},
   "source": [
    "So, Here no outliers in numerical columns."
   ]
  },
  {
   "cell_type": "markdown",
   "id": "da29fffc",
   "metadata": {},
   "source": [
    "#### Value counts of Categorical columns to see imbalance data"
   ]
  },
  {
   "cell_type": "markdown",
   "id": "67c5ba73",
   "metadata": {},
   "source": [
    "using plotly"
   ]
  },
  {
   "cell_type": "code",
   "execution_count": 16,
   "id": "dbac92e4",
   "metadata": {},
   "outputs": [
    {
     "data": {
      "application/vnd.plotly.v1+json": {
       "config": {
        "plotlyServerURL": "https://plot.ly"
       },
       "data": [
        {
         "showlegend": true,
         "text": {
          "bdata": "AAAAAACQo0AAAAAAAICjQA==",
          "dtype": "f8"
         },
         "type": "bar",
         "x": [
          "Male",
          "Female"
         ],
         "xaxis": "x",
         "y": {
          "bdata": "yAnACQ==",
          "dtype": "i2"
         },
         "yaxis": "y"
        },
        {
         "showlegend": true,
         "text": {
          "bdata": "AAAAAACYo0AAAAAAAHijQA==",
          "dtype": "f8"
         },
         "type": "bar",
         "x": [
          "Yes",
          "No"
         ],
         "xaxis": "x2",
         "y": {
          "bdata": "zAm8CQ==",
          "dtype": "i2"
         },
         "yaxis": "y2"
        },
        {
         "showlegend": true,
         "text": {
          "bdata": "AAAAAACKo0AAAAAAAIajQA==",
          "dtype": "f8"
         },
         "type": "bar",
         "x": [
          "No",
          "Yes"
         ],
         "xaxis": "x3",
         "y": {
          "bdata": "xQnDCQ==",
          "dtype": "i2"
         },
         "yaxis": "y3"
        },
        {
         "showlegend": true,
         "text": {
          "bdata": "AAAAAADco0AAAAAAADSjQA==",
          "dtype": "f8"
         },
         "type": "bar",
         "x": [
          "No",
          "Yes"
         ],
         "xaxis": "x4",
         "y": {
          "bdata": "7gmaCQ==",
          "dtype": "i2"
         },
         "yaxis": "y4"
        },
        {
         "showlegend": true,
         "text": {
          "bdata": "AAAAAADAmkAAAAAAANCZQAAAAAAAkJlA",
          "dtype": "f8"
         },
         "type": "bar",
         "x": [
          "No phone service",
          "Yes",
          "No"
         ],
         "xaxis": "x5",
         "y": {
          "bdata": "sAZ0BmQG",
          "dtype": "i2"
         },
         "yaxis": "y5"
        },
        {
         "showlegend": true,
         "text": {
          "bdata": "AAAAAADYm0AAAAAAAGSZQAAAAAAA5JhA",
          "dtype": "f8"
         },
         "type": "bar",
         "x": [
          "DSL",
          "No",
          "Fiber optic"
         ],
         "xaxis": "x6",
         "y": {
          "bdata": "9gZZBjkG",
          "dtype": "i2"
         },
         "yaxis": "y6"
        },
        {
         "showlegend": true,
         "text": {
          "bdata": "AAAAAAAwm0AAAAAAAIyZQAAAAAAAZJlA",
          "dtype": "f8"
         },
         "type": "bar",
         "x": [
          "No internet service",
          "No",
          "Yes"
         ],
         "xaxis": "x7",
         "y": {
          "bdata": "zAZjBlkG",
          "dtype": "i2"
         },
         "yaxis": "y7"
        },
        {
         "showlegend": true,
         "text": {
          "bdata": "AAAAAABomkAAAAAAAPCZQAAAAAAAyJlA",
          "dtype": "f8"
         },
         "type": "bar",
         "x": [
          "No",
          "Yes",
          "No internet service"
         ],
         "xaxis": "x8",
         "y": {
          "bdata": "mgZ8BnIG",
          "dtype": "i2"
         },
         "yaxis": "y8"
        },
        {
         "showlegend": true,
         "text": {
          "bdata": "AAAAAABsm0AAAAAAAHyZQAAAAAAAOJlA",
          "dtype": "f8"
         },
         "type": "bar",
         "x": [
          "No",
          "No internet service",
          "Yes"
         ],
         "xaxis": "x9",
         "y": {
          "bdata": "2wZfBk4G",
          "dtype": "i2"
         },
         "yaxis": "y9"
        },
        {
         "showlegend": true,
         "text": {
          "bdata": "AAAAAAB4mkAAAAAAAGCaQAAAAAAASJlA",
          "dtype": "f8"
         },
         "type": "bar",
         "x": [
          "No",
          "No internet service",
          "Yes"
         ],
         "xaxis": "x10",
         "y": {
          "bdata": "ngaYBlIG",
          "dtype": "i2"
         },
         "yaxis": "y10"
        },
        {
         "showlegend": true,
         "text": {
          "bdata": "AAAAAABwmkAAAAAAAASaQAAAAAAArJlA",
          "dtype": "f8"
         },
         "type": "bar",
         "x": [
          "Yes",
          "No",
          "No internet service"
         ],
         "xaxis": "x11",
         "y": {
          "bdata": "nAaBBmsG",
          "dtype": "i2"
         },
         "yaxis": "y11"
        },
        {
         "showlegend": true,
         "text": {
          "bdata": "AAAAAAA8mkAAAAAAABSaQAAAAAAA0JlA",
          "dtype": "f8"
         },
         "type": "bar",
         "x": [
          "Yes",
          "No internet service",
          "No"
         ],
         "xaxis": "x12",
         "y": {
          "bdata": "jwaFBnQG",
          "dtype": "i2"
         },
         "yaxis": "y12"
        },
        {
         "showlegend": true,
         "text": {
          "bdata": "AAAAAACAmkAAAAAAAGCaQAAAAAAAQJlA",
          "dtype": "f8"
         },
         "type": "bar",
         "x": [
          "Month-to-month",
          "One year",
          "Two year"
         ],
         "xaxis": "x13",
         "y": {
          "bdata": "oAaYBlAG",
          "dtype": "i2"
         },
         "yaxis": "y13"
        },
        {
         "showlegend": true,
         "text": {
          "bdata": "AAAAAACgo0AAAAAAAHCjQA==",
          "dtype": "f8"
         },
         "type": "bar",
         "x": [
          "Yes",
          "No"
         ],
         "xaxis": "x14",
         "y": {
          "bdata": "0Am4CQ==",
          "dtype": "i2"
         },
         "yaxis": "y14"
        },
        {
         "showlegend": true,
         "text": {
          "bdata": "AAAAAACok0AAAAAAAJSTQAAAAAAAgJNAAAAAAABkk0A=",
          "dtype": "f8"
         },
         "type": "bar",
         "x": [
          "Credit card (automatic)",
          "Mailed check",
          "Bank transfer (automatic)",
          "Electronic check"
         ],
         "xaxis": "x15",
         "y": {
          "bdata": "6gTlBOAE2QQ=",
          "dtype": "i2"
         },
         "yaxis": "y15"
        },
        {
         "showlegend": true,
         "text": {
          "bdata": "AAAAAACIrEAAAAAAABCVQA==",
          "dtype": "f8"
         },
         "type": "bar",
         "x": [
          "No",
          "Yes"
         ],
         "xaxis": "x16",
         "y": {
          "bdata": "RA5EBQ==",
          "dtype": "i2"
         },
         "yaxis": "y16"
        }
       ],
       "layout": {
        "annotations": [
         {
          "font": {
           "size": 16
          },
          "showarrow": false,
          "text": "gender",
          "x": 0.10625,
          "xanchor": "center",
          "xref": "paper",
          "y": 1,
          "yanchor": "bottom",
          "yref": "paper"
         },
         {
          "font": {
           "size": 16
          },
          "showarrow": false,
          "text": "Partner",
          "x": 0.36875,
          "xanchor": "center",
          "xref": "paper",
          "y": 1,
          "yanchor": "bottom",
          "yref": "paper"
         },
         {
          "font": {
           "size": 16
          },
          "showarrow": false,
          "text": "Dependents",
          "x": 0.6312500000000001,
          "xanchor": "center",
          "xref": "paper",
          "y": 1,
          "yanchor": "bottom",
          "yref": "paper"
         },
         {
          "font": {
           "size": 16
          },
          "showarrow": false,
          "text": "PhoneService",
          "x": 0.89375,
          "xanchor": "center",
          "xref": "paper",
          "y": 1,
          "yanchor": "bottom",
          "yref": "paper"
         },
         {
          "font": {
           "size": 16
          },
          "showarrow": false,
          "text": "MultipleLines",
          "x": 0.10625,
          "xanchor": "center",
          "xref": "paper",
          "y": 0.71875,
          "yanchor": "bottom",
          "yref": "paper"
         },
         {
          "font": {
           "size": 16
          },
          "showarrow": false,
          "text": "InternetService",
          "x": 0.36875,
          "xanchor": "center",
          "xref": "paper",
          "y": 0.71875,
          "yanchor": "bottom",
          "yref": "paper"
         },
         {
          "font": {
           "size": 16
          },
          "showarrow": false,
          "text": "OnlineSecurity",
          "x": 0.6312500000000001,
          "xanchor": "center",
          "xref": "paper",
          "y": 0.71875,
          "yanchor": "bottom",
          "yref": "paper"
         },
         {
          "font": {
           "size": 16
          },
          "showarrow": false,
          "text": "OnlineBackup",
          "x": 0.89375,
          "xanchor": "center",
          "xref": "paper",
          "y": 0.71875,
          "yanchor": "bottom",
          "yref": "paper"
         },
         {
          "font": {
           "size": 16
          },
          "showarrow": false,
          "text": "DeviceProtection",
          "x": 0.10625,
          "xanchor": "center",
          "xref": "paper",
          "y": 0.4375,
          "yanchor": "bottom",
          "yref": "paper"
         },
         {
          "font": {
           "size": 16
          },
          "showarrow": false,
          "text": "TechSupport",
          "x": 0.36875,
          "xanchor": "center",
          "xref": "paper",
          "y": 0.4375,
          "yanchor": "bottom",
          "yref": "paper"
         },
         {
          "font": {
           "size": 16
          },
          "showarrow": false,
          "text": "StreamingTV",
          "x": 0.6312500000000001,
          "xanchor": "center",
          "xref": "paper",
          "y": 0.4375,
          "yanchor": "bottom",
          "yref": "paper"
         },
         {
          "font": {
           "size": 16
          },
          "showarrow": false,
          "text": "StreamingMovies",
          "x": 0.89375,
          "xanchor": "center",
          "xref": "paper",
          "y": 0.4375,
          "yanchor": "bottom",
          "yref": "paper"
         },
         {
          "font": {
           "size": 16
          },
          "showarrow": false,
          "text": "Contract",
          "x": 0.10625,
          "xanchor": "center",
          "xref": "paper",
          "y": 0.15625,
          "yanchor": "bottom",
          "yref": "paper"
         },
         {
          "font": {
           "size": 16
          },
          "showarrow": false,
          "text": "PaperlessBilling",
          "x": 0.36875,
          "xanchor": "center",
          "xref": "paper",
          "y": 0.15625,
          "yanchor": "bottom",
          "yref": "paper"
         },
         {
          "font": {
           "size": 16
          },
          "showarrow": false,
          "text": "PaymentMethod",
          "x": 0.6312500000000001,
          "xanchor": "center",
          "xref": "paper",
          "y": 0.15625,
          "yanchor": "bottom",
          "yref": "paper"
         },
         {
          "font": {
           "size": 16
          },
          "showarrow": false,
          "text": "Churn",
          "x": 0.89375,
          "xanchor": "center",
          "xref": "paper",
          "y": 0.15625,
          "yanchor": "bottom",
          "yref": "paper"
         }
        ],
        "height": 1300,
        "template": {
         "data": {
          "bar": [
           {
            "error_x": {
             "color": "#2a3f5f"
            },
            "error_y": {
             "color": "#2a3f5f"
            },
            "marker": {
             "line": {
              "color": "#E5ECF6",
              "width": 0.5
             },
             "pattern": {
              "fillmode": "overlay",
              "size": 10,
              "solidity": 0.2
             }
            },
            "type": "bar"
           }
          ],
          "barpolar": [
           {
            "marker": {
             "line": {
              "color": "#E5ECF6",
              "width": 0.5
             },
             "pattern": {
              "fillmode": "overlay",
              "size": 10,
              "solidity": 0.2
             }
            },
            "type": "barpolar"
           }
          ],
          "carpet": [
           {
            "aaxis": {
             "endlinecolor": "#2a3f5f",
             "gridcolor": "white",
             "linecolor": "white",
             "minorgridcolor": "white",
             "startlinecolor": "#2a3f5f"
            },
            "baxis": {
             "endlinecolor": "#2a3f5f",
             "gridcolor": "white",
             "linecolor": "white",
             "minorgridcolor": "white",
             "startlinecolor": "#2a3f5f"
            },
            "type": "carpet"
           }
          ],
          "choropleth": [
           {
            "colorbar": {
             "outlinewidth": 0,
             "ticks": ""
            },
            "type": "choropleth"
           }
          ],
          "contour": [
           {
            "colorbar": {
             "outlinewidth": 0,
             "ticks": ""
            },
            "colorscale": [
             [
              0,
              "#0d0887"
             ],
             [
              0.1111111111111111,
              "#46039f"
             ],
             [
              0.2222222222222222,
              "#7201a8"
             ],
             [
              0.3333333333333333,
              "#9c179e"
             ],
             [
              0.4444444444444444,
              "#bd3786"
             ],
             [
              0.5555555555555556,
              "#d8576b"
             ],
             [
              0.6666666666666666,
              "#ed7953"
             ],
             [
              0.7777777777777778,
              "#fb9f3a"
             ],
             [
              0.8888888888888888,
              "#fdca26"
             ],
             [
              1,
              "#f0f921"
             ]
            ],
            "type": "contour"
           }
          ],
          "contourcarpet": [
           {
            "colorbar": {
             "outlinewidth": 0,
             "ticks": ""
            },
            "type": "contourcarpet"
           }
          ],
          "heatmap": [
           {
            "colorbar": {
             "outlinewidth": 0,
             "ticks": ""
            },
            "colorscale": [
             [
              0,
              "#0d0887"
             ],
             [
              0.1111111111111111,
              "#46039f"
             ],
             [
              0.2222222222222222,
              "#7201a8"
             ],
             [
              0.3333333333333333,
              "#9c179e"
             ],
             [
              0.4444444444444444,
              "#bd3786"
             ],
             [
              0.5555555555555556,
              "#d8576b"
             ],
             [
              0.6666666666666666,
              "#ed7953"
             ],
             [
              0.7777777777777778,
              "#fb9f3a"
             ],
             [
              0.8888888888888888,
              "#fdca26"
             ],
             [
              1,
              "#f0f921"
             ]
            ],
            "type": "heatmap"
           }
          ],
          "histogram": [
           {
            "marker": {
             "pattern": {
              "fillmode": "overlay",
              "size": 10,
              "solidity": 0.2
             }
            },
            "type": "histogram"
           }
          ],
          "histogram2d": [
           {
            "colorbar": {
             "outlinewidth": 0,
             "ticks": ""
            },
            "colorscale": [
             [
              0,
              "#0d0887"
             ],
             [
              0.1111111111111111,
              "#46039f"
             ],
             [
              0.2222222222222222,
              "#7201a8"
             ],
             [
              0.3333333333333333,
              "#9c179e"
             ],
             [
              0.4444444444444444,
              "#bd3786"
             ],
             [
              0.5555555555555556,
              "#d8576b"
             ],
             [
              0.6666666666666666,
              "#ed7953"
             ],
             [
              0.7777777777777778,
              "#fb9f3a"
             ],
             [
              0.8888888888888888,
              "#fdca26"
             ],
             [
              1,
              "#f0f921"
             ]
            ],
            "type": "histogram2d"
           }
          ],
          "histogram2dcontour": [
           {
            "colorbar": {
             "outlinewidth": 0,
             "ticks": ""
            },
            "colorscale": [
             [
              0,
              "#0d0887"
             ],
             [
              0.1111111111111111,
              "#46039f"
             ],
             [
              0.2222222222222222,
              "#7201a8"
             ],
             [
              0.3333333333333333,
              "#9c179e"
             ],
             [
              0.4444444444444444,
              "#bd3786"
             ],
             [
              0.5555555555555556,
              "#d8576b"
             ],
             [
              0.6666666666666666,
              "#ed7953"
             ],
             [
              0.7777777777777778,
              "#fb9f3a"
             ],
             [
              0.8888888888888888,
              "#fdca26"
             ],
             [
              1,
              "#f0f921"
             ]
            ],
            "type": "histogram2dcontour"
           }
          ],
          "mesh3d": [
           {
            "colorbar": {
             "outlinewidth": 0,
             "ticks": ""
            },
            "type": "mesh3d"
           }
          ],
          "parcoords": [
           {
            "line": {
             "colorbar": {
              "outlinewidth": 0,
              "ticks": ""
             }
            },
            "type": "parcoords"
           }
          ],
          "pie": [
           {
            "automargin": true,
            "type": "pie"
           }
          ],
          "scatter": [
           {
            "fillpattern": {
             "fillmode": "overlay",
             "size": 10,
             "solidity": 0.2
            },
            "type": "scatter"
           }
          ],
          "scatter3d": [
           {
            "line": {
             "colorbar": {
              "outlinewidth": 0,
              "ticks": ""
             }
            },
            "marker": {
             "colorbar": {
              "outlinewidth": 0,
              "ticks": ""
             }
            },
            "type": "scatter3d"
           }
          ],
          "scattercarpet": [
           {
            "marker": {
             "colorbar": {
              "outlinewidth": 0,
              "ticks": ""
             }
            },
            "type": "scattercarpet"
           }
          ],
          "scattergeo": [
           {
            "marker": {
             "colorbar": {
              "outlinewidth": 0,
              "ticks": ""
             }
            },
            "type": "scattergeo"
           }
          ],
          "scattergl": [
           {
            "marker": {
             "colorbar": {
              "outlinewidth": 0,
              "ticks": ""
             }
            },
            "type": "scattergl"
           }
          ],
          "scattermap": [
           {
            "marker": {
             "colorbar": {
              "outlinewidth": 0,
              "ticks": ""
             }
            },
            "type": "scattermap"
           }
          ],
          "scattermapbox": [
           {
            "marker": {
             "colorbar": {
              "outlinewidth": 0,
              "ticks": ""
             }
            },
            "type": "scattermapbox"
           }
          ],
          "scatterpolar": [
           {
            "marker": {
             "colorbar": {
              "outlinewidth": 0,
              "ticks": ""
             }
            },
            "type": "scatterpolar"
           }
          ],
          "scatterpolargl": [
           {
            "marker": {
             "colorbar": {
              "outlinewidth": 0,
              "ticks": ""
             }
            },
            "type": "scatterpolargl"
           }
          ],
          "scatterternary": [
           {
            "marker": {
             "colorbar": {
              "outlinewidth": 0,
              "ticks": ""
             }
            },
            "type": "scatterternary"
           }
          ],
          "surface": [
           {
            "colorbar": {
             "outlinewidth": 0,
             "ticks": ""
            },
            "colorscale": [
             [
              0,
              "#0d0887"
             ],
             [
              0.1111111111111111,
              "#46039f"
             ],
             [
              0.2222222222222222,
              "#7201a8"
             ],
             [
              0.3333333333333333,
              "#9c179e"
             ],
             [
              0.4444444444444444,
              "#bd3786"
             ],
             [
              0.5555555555555556,
              "#d8576b"
             ],
             [
              0.6666666666666666,
              "#ed7953"
             ],
             [
              0.7777777777777778,
              "#fb9f3a"
             ],
             [
              0.8888888888888888,
              "#fdca26"
             ],
             [
              1,
              "#f0f921"
             ]
            ],
            "type": "surface"
           }
          ],
          "table": [
           {
            "cells": {
             "fill": {
              "color": "#EBF0F8"
             },
             "line": {
              "color": "white"
             }
            },
            "header": {
             "fill": {
              "color": "#C8D4E3"
             },
             "line": {
              "color": "white"
             }
            },
            "type": "table"
           }
          ]
         },
         "layout": {
          "annotationdefaults": {
           "arrowcolor": "#2a3f5f",
           "arrowhead": 0,
           "arrowwidth": 1
          },
          "autotypenumbers": "strict",
          "coloraxis": {
           "colorbar": {
            "outlinewidth": 0,
            "ticks": ""
           }
          },
          "colorscale": {
           "diverging": [
            [
             0,
             "#8e0152"
            ],
            [
             0.1,
             "#c51b7d"
            ],
            [
             0.2,
             "#de77ae"
            ],
            [
             0.3,
             "#f1b6da"
            ],
            [
             0.4,
             "#fde0ef"
            ],
            [
             0.5,
             "#f7f7f7"
            ],
            [
             0.6,
             "#e6f5d0"
            ],
            [
             0.7,
             "#b8e186"
            ],
            [
             0.8,
             "#7fbc41"
            ],
            [
             0.9,
             "#4d9221"
            ],
            [
             1,
             "#276419"
            ]
           ],
           "sequential": [
            [
             0,
             "#0d0887"
            ],
            [
             0.1111111111111111,
             "#46039f"
            ],
            [
             0.2222222222222222,
             "#7201a8"
            ],
            [
             0.3333333333333333,
             "#9c179e"
            ],
            [
             0.4444444444444444,
             "#bd3786"
            ],
            [
             0.5555555555555556,
             "#d8576b"
            ],
            [
             0.6666666666666666,
             "#ed7953"
            ],
            [
             0.7777777777777778,
             "#fb9f3a"
            ],
            [
             0.8888888888888888,
             "#fdca26"
            ],
            [
             1,
             "#f0f921"
            ]
           ],
           "sequentialminus": [
            [
             0,
             "#0d0887"
            ],
            [
             0.1111111111111111,
             "#46039f"
            ],
            [
             0.2222222222222222,
             "#7201a8"
            ],
            [
             0.3333333333333333,
             "#9c179e"
            ],
            [
             0.4444444444444444,
             "#bd3786"
            ],
            [
             0.5555555555555556,
             "#d8576b"
            ],
            [
             0.6666666666666666,
             "#ed7953"
            ],
            [
             0.7777777777777778,
             "#fb9f3a"
            ],
            [
             0.8888888888888888,
             "#fdca26"
            ],
            [
             1,
             "#f0f921"
            ]
           ]
          },
          "colorway": [
           "#636efa",
           "#EF553B",
           "#00cc96",
           "#ab63fa",
           "#FFA15A",
           "#19d3f3",
           "#FF6692",
           "#B6E880",
           "#FF97FF",
           "#FECB52"
          ],
          "font": {
           "color": "#2a3f5f"
          },
          "geo": {
           "bgcolor": "white",
           "lakecolor": "white",
           "landcolor": "#E5ECF6",
           "showlakes": true,
           "showland": true,
           "subunitcolor": "white"
          },
          "hoverlabel": {
           "align": "left"
          },
          "hovermode": "closest",
          "mapbox": {
           "style": "light"
          },
          "paper_bgcolor": "white",
          "plot_bgcolor": "#E5ECF6",
          "polar": {
           "angularaxis": {
            "gridcolor": "white",
            "linecolor": "white",
            "ticks": ""
           },
           "bgcolor": "#E5ECF6",
           "radialaxis": {
            "gridcolor": "white",
            "linecolor": "white",
            "ticks": ""
           }
          },
          "scene": {
           "xaxis": {
            "backgroundcolor": "#E5ECF6",
            "gridcolor": "white",
            "gridwidth": 2,
            "linecolor": "white",
            "showbackground": true,
            "ticks": "",
            "zerolinecolor": "white"
           },
           "yaxis": {
            "backgroundcolor": "#E5ECF6",
            "gridcolor": "white",
            "gridwidth": 2,
            "linecolor": "white",
            "showbackground": true,
            "ticks": "",
            "zerolinecolor": "white"
           },
           "zaxis": {
            "backgroundcolor": "#E5ECF6",
            "gridcolor": "white",
            "gridwidth": 2,
            "linecolor": "white",
            "showbackground": true,
            "ticks": "",
            "zerolinecolor": "white"
           }
          },
          "shapedefaults": {
           "line": {
            "color": "#2a3f5f"
           }
          },
          "ternary": {
           "aaxis": {
            "gridcolor": "white",
            "linecolor": "white",
            "ticks": ""
           },
           "baxis": {
            "gridcolor": "white",
            "linecolor": "white",
            "ticks": ""
           },
           "bgcolor": "#E5ECF6",
           "caxis": {
            "gridcolor": "white",
            "linecolor": "white",
            "ticks": ""
           }
          },
          "title": {
           "x": 0.05
          },
          "xaxis": {
           "automargin": true,
           "gridcolor": "white",
           "linecolor": "white",
           "ticks": "",
           "title": {
            "standoff": 15
           },
           "zerolinecolor": "white",
           "zerolinewidth": 2
          },
          "yaxis": {
           "automargin": true,
           "gridcolor": "white",
           "linecolor": "white",
           "ticks": "",
           "title": {
            "standoff": 15
           },
           "zerolinecolor": "white",
           "zerolinewidth": 2
          }
         }
        },
        "title": {
         "text": "Value Counts of Categorical Columns"
        },
        "width": 1200,
        "xaxis": {
         "anchor": "y",
         "domain": [
          0,
          0.2125
         ]
        },
        "xaxis10": {
         "anchor": "y10",
         "domain": [
          0.2625,
          0.475
         ]
        },
        "xaxis11": {
         "anchor": "y11",
         "domain": [
          0.525,
          0.7375
         ]
        },
        "xaxis12": {
         "anchor": "y12",
         "domain": [
          0.7875,
          1
         ]
        },
        "xaxis13": {
         "anchor": "y13",
         "domain": [
          0,
          0.2125
         ]
        },
        "xaxis14": {
         "anchor": "y14",
         "domain": [
          0.2625,
          0.475
         ]
        },
        "xaxis15": {
         "anchor": "y15",
         "domain": [
          0.525,
          0.7375
         ]
        },
        "xaxis16": {
         "anchor": "y16",
         "domain": [
          0.7875,
          1
         ]
        },
        "xaxis2": {
         "anchor": "y2",
         "domain": [
          0.2625,
          0.475
         ]
        },
        "xaxis3": {
         "anchor": "y3",
         "domain": [
          0.525,
          0.7375
         ]
        },
        "xaxis4": {
         "anchor": "y4",
         "domain": [
          0.7875,
          1
         ]
        },
        "xaxis5": {
         "anchor": "y5",
         "domain": [
          0,
          0.2125
         ]
        },
        "xaxis6": {
         "anchor": "y6",
         "domain": [
          0.2625,
          0.475
         ]
        },
        "xaxis7": {
         "anchor": "y7",
         "domain": [
          0.525,
          0.7375
         ]
        },
        "xaxis8": {
         "anchor": "y8",
         "domain": [
          0.7875,
          1
         ]
        },
        "xaxis9": {
         "anchor": "y9",
         "domain": [
          0,
          0.2125
         ]
        },
        "yaxis": {
         "anchor": "x",
         "domain": [
          0.84375,
          1
         ]
        },
        "yaxis10": {
         "anchor": "x10",
         "domain": [
          0.28125,
          0.4375
         ]
        },
        "yaxis11": {
         "anchor": "x11",
         "domain": [
          0.28125,
          0.4375
         ]
        },
        "yaxis12": {
         "anchor": "x12",
         "domain": [
          0.28125,
          0.4375
         ]
        },
        "yaxis13": {
         "anchor": "x13",
         "domain": [
          0,
          0.15625
         ]
        },
        "yaxis14": {
         "anchor": "x14",
         "domain": [
          0,
          0.15625
         ]
        },
        "yaxis15": {
         "anchor": "x15",
         "domain": [
          0,
          0.15625
         ]
        },
        "yaxis16": {
         "anchor": "x16",
         "domain": [
          0,
          0.15625
         ]
        },
        "yaxis2": {
         "anchor": "x2",
         "domain": [
          0.84375,
          1
         ]
        },
        "yaxis3": {
         "anchor": "x3",
         "domain": [
          0.84375,
          1
         ]
        },
        "yaxis4": {
         "anchor": "x4",
         "domain": [
          0.84375,
          1
         ]
        },
        "yaxis5": {
         "anchor": "x5",
         "domain": [
          0.5625,
          0.71875
         ]
        },
        "yaxis6": {
         "anchor": "x6",
         "domain": [
          0.5625,
          0.71875
         ]
        },
        "yaxis7": {
         "anchor": "x7",
         "domain": [
          0.5625,
          0.71875
         ]
        },
        "yaxis8": {
         "anchor": "x8",
         "domain": [
          0.5625,
          0.71875
         ]
        },
        "yaxis9": {
         "anchor": "x9",
         "domain": [
          0.28125,
          0.4375
         ]
        }
       }
      }
     },
     "metadata": {},
     "output_type": "display_data"
    }
   ],
   "source": [
    "fig = make_subplots(rows=4, cols=4, subplot_titles=categorical_cols)\n",
    "for i, column in enumerate(categorical_cols):\n",
    "    row = i // 4 + 1\n",
    "    col = i % 4 + 1\n",
    "\n",
    "    value_counts = df1[column].value_counts().reset_index()\n",
    "    value_counts.columns = ['Category', 'count']\n",
    "\n",
    "    bar = go.Bar(\n",
    "        x=value_counts['Category'],\n",
    "        y=value_counts['count'],\n",
    "        text=value_counts['count'],\n",
    "        showlegend=True\n",
    "    )\n",
    "    fig.add_trace(bar, row=row, col=col)\n",
    "\n",
    "fig.update_layout(height=1300, width=1200, title_text=\"Value Counts of Categorical Columns\")\n",
    "fig.show()\n"
   ]
  },
  {
   "cell_type": "markdown",
   "id": "e875b8ec",
   "metadata": {},
   "source": [
    "using seaborn"
   ]
  },
  {
   "cell_type": "code",
   "execution_count": 17,
   "id": "610fada4",
   "metadata": {},
   "outputs": [
    {
     "data": {
      "image/png": "[encoded data removed]",
      "text/plain": [
       "<Figure size 1800x2000 with 16 Axes>"
      ]
     },
     "metadata": {},
     "output_type": "display_data"
    }
   ],
   "source": [
    "fig, axes = plt.subplots(nrows=4, ncols=4, figsize=(18, 20))\n",
    "\n",
    "for ax, column in zip(axes.flatten(), categorical_cols):\n",
    "    sns_fig = sns.countplot(data=df1, ax=ax, x=column, hue=column)\n",
    "    sns_fig.tick_params(axis='x', rotation=15)\n",
    "    for container in sns_fig.containers:\n",
    "        sns_fig.bar_label(container)\n",
    "\n",
    "plt.tight_layout()\n",
    "plt.show()"
   ]
  },
  {
   "cell_type": "markdown",
   "id": "089abf1a",
   "metadata": {},
   "source": [
    "### EDA - Exploratory Data Analysis"
   ]
  },
  {
   "cell_type": "code",
   "execution_count": 18,
   "id": "e2e47681",
   "metadata": {},
   "outputs": [],
   "source": [
    "import warnings\n",
    "warnings.filterwarnings('ignore')"
   ]
  },
  {
   "cell_type": "code",
   "execution_count": 48,
   "id": "68dd333b",
   "metadata": {},
   "outputs": [
    {
     "data": {
      "image/png": "[encoded data removed]",
      "text/plain": [
       "<Figure size 800x600 with 1 Axes>"
      ]
     },
     "metadata": {},
     "output_type": "display_data"
    }
   ],
   "source": [
    "plt.figure(figsize=(8, 6))\n",
    "sns.histplot(data=df1, x='tenure', hue='Churn', multiple='dodge', bins=20, binwidth=3, palette='colorblind', kde=True)\n",
    "\n",
    "plt.xlabel(\"Tenure\")\n",
    "plt.ylabel(\"Number Of Customers\")\n",
    "plt.title(\"Tenure vs Customer Churn\")\n",
    "plt.show()"
   ]
  },
  {
   "cell_type": "code",
   "execution_count": 47,
   "id": "5d9b7262",
   "metadata": {},
   "outputs": [
    {
     "data": {
      "image/png": "[encoded data removed]",
      "text/plain": [
       "<Figure size 800x600 with 1 Axes>"
      ]
     },
     "metadata": {},
     "output_type": "display_data"
    }
   ],
   "source": [
    "plt.figure(figsize=(8, 6))\n",
    "sns.histplot(data=df1, x='MonthlyCharges', hue='Churn', multiple='dodge', bins=20, palette='muted', kde=True)\n",
    "\n",
    "plt.xlabel(\"MonthlyCharges\")\n",
    "plt.ylabel(\"Number Of Customers\")\n",
    "plt.title(\"MonthlyCharges vs Customer Churn\")\n",
    "plt.show()"
   ]
  },
  {
   "cell_type": "code",
   "execution_count": 56,
   "id": "973dba31",
   "metadata": {},
   "outputs": [
    {
     "name": "stdout",
     "output_type": "stream",
     "text": [
      "gender: ['Male' 'Female']\n",
      "SeniorCitizen: [0 1]\n",
      "Partner: ['Yes' 'No']\n",
      "Dependents: ['No' 'Yes']\n",
      "tenure: [54 35 36 13 26 30 72 43 67 47 56 21  3 71 45 58 33 10 55 37 20  9 25  7\n",
      " 59 15 12 63  1 68 29 60 64 66 42 34 38 50  4 19 23 53 16 17 52 49 44 65\n",
      " 46 18  5  6  2 24 14 61 39 51 31 62 48 22 32 69 27 70 40 11  0 28  8 41\n",
      " 57]\n",
      "PhoneService: ['No' 'Yes']\n",
      "MultipleLines: ['No phone service' 'No' 'Yes']\n",
      "InternetService: ['Fiber optic' 'No' 'DSL']\n",
      "OnlineSecurity: ['No internet service' 'Yes' 'No']\n",
      "OnlineBackup: ['Yes' 'No' 'No internet service']\n",
      "DeviceProtection: ['No internet service' 'Yes' 'No']\n",
      "TechSupport: ['Yes' 'No' 'No internet service']\n",
      "StreamingTV: ['No internet service' 'No' 'Yes']\n",
      "StreamingMovies: ['No internet service' 'Yes' 'No']\n",
      "Contract: ['Two year' 'One year' 'Month-to-month']\n",
      "PaperlessBilling: ['Yes' 'No']\n",
      "PaymentMethod: ['Mailed check' 'Credit card (automatic)' 'Bank transfer (automatic)'\n",
      " 'Electronic check']\n",
      "MonthlyCharges: [96.48 87.58 79.78 ... 77.88 44.73 91.49]\n",
      "Churn: ['No' 'Yes']\n"
     ]
    }
   ],
   "source": [
    "for col in df1.columns:\n",
    "    print(f'{col}: {df1[col].unique()}')"
   ]
  },
  {
   "cell_type": "code",
   "execution_count": null,
   "id": "70a9f969",
   "metadata": {},
   "outputs": [],
   "source": []
  },
  {
   "cell_type": "code",
   "execution_count": null,
   "id": "398bdd36",
   "metadata": {},
   "outputs": [],
   "source": []
  },
  {
   "cell_type": "code",
   "execution_count": null,
   "id": "5c4cca1a",
   "metadata": {},
   "outputs": [],
   "source": []
  },
  {
   "cell_type": "code",
   "execution_count": null,
   "id": "a6b37837",
   "metadata": {},
   "outputs": [],
   "source": []
  },
  {
   "cell_type": "code",
   "execution_count": null,
   "id": "7324f482",
   "metadata": {},
   "outputs": [],
   "source": []
  },
  {
   "cell_type": "code",
   "execution_count": null,
   "id": "7ed30b41",
   "metadata": {},
   "outputs": [],
   "source": []
  },
  {
   "cell_type": "code",
   "execution_count": null,
   "id": "3ad291fe",
   "metadata": {},
   "outputs": [],
   "source": []
  },
  {
   "cell_type": "code",
   "execution_count": null,
   "id": "7a69ffe5",
   "metadata": {},
   "outputs": [],
   "source": []
  },
  {
   "cell_type": "code",
   "execution_count": null,
   "id": "376ce2ce",
   "metadata": {},
   "outputs": [],
   "source": []
  }
 ],
 "metadata": {
  "kernelspec": {
   "display_name": ".venv",
   "language": "python",
   "name": "python3"
  },
  "language_info": {
   "codemirror_mode": {
    "name": "ipython",
    "version": 3
   },
   "file_extension": ".py",
   "mimetype": "text/x-python",
   "name": "python",
   "nbconvert_exporter": "python",
   "pygments_lexer": "ipython3",
   "version": "3.10.11"
  }
 },
 "nbformat": 4,
 "nbformat_minor": 5
}
