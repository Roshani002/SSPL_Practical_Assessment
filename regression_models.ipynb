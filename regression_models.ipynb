{
 "cells": [
  {
   "cell_type": "markdown",
   "id": "f764f821",
   "metadata": {},
   "source": [
    "# Regression models"
   ]
  },
  {
   "cell_type": "markdown",
   "id": "88029bad",
   "metadata": {},
   "source": [
    "## Importing Libraries"
   ]
  },
  {
   "cell_type": "code",
   "execution_count": 1,
   "id": "2bad2e41",
   "metadata": {},
   "outputs": [],
   "source": [
    "import pickle\n",
    "import numpy as np\n",
    "import pandas as pd\n",
    "import seaborn as sns\n",
    "from math import sqrt\n",
    "import matplotlib.pyplot as plt\n",
    "from sklearn.ensemble import RandomForestRegressor\n",
    "from xgboost import XGBRegressor\n",
    "from sklearn.linear_model import LinearRegression, Ridge, Lasso\n",
    "from sklearn.preprocessing import StandardScaler, PolynomialFeatures, MinMaxScaler\n",
    "from sklearn.feature_selection import SelectKBest, f_regression, r_regression\n",
    "from sklearn.model_selection import GridSearchCV\n",
    "from sklearn.metrics import mean_absolute_error, mean_squared_error, r2_score"
   ]
  },
  {
   "cell_type": "markdown",
   "id": "21600483",
   "metadata": {},
   "source": [
    "## Load train/test data"
   ]
  },
  {
   "cell_type": "code",
   "execution_count": 2,
   "id": "d73c5aec",
   "metadata": {},
   "outputs": [
    {
     "name": "stdout",
     "output_type": "stream",
     "text": [
      "Mixed encoded data for tree-based models loaded.\n",
      "X_train_mixed shape: (3944, 24)\n",
      "\n"
     ]
    }
   ],
   "source": [
    "# Load the Mixed encoded data \n",
    "with open(\"processed_data/X_train_reg_mixed.pkl\", \"rb\") as f: X_train_mixed = pickle.load(f)\n",
    "with open(\"processed_data/X_test_reg_mixed.pkl\", \"rb\") as f: X_test_mixed = pickle.load(f)\n",
    "with open(\"processed_data/y_train_reg_mixed.pkl\", \"rb\") as f: y_train_mixed = pickle.load(f)\n",
    "with open(\"processed_data/y_test_reg_mixed.pkl\", \"rb\") as f: y_test_mixed = pickle.load(f)\n",
    "print(\"Mixed encoded data for tree-based models loaded.\")\n",
    "print(f\"X_train_mixed shape: {X_train_mixed.shape}\\n\")"
   ]
  },
  {
   "cell_type": "code",
   "execution_count": 3,
   "id": "af8c10f5",
   "metadata": {},
   "outputs": [
    {
     "name": "stdout",
     "output_type": "stream",
     "text": [
      "<class 'pandas.core.frame.DataFrame'>\n",
      "Index: 3944 entries, 1075 to 860\n",
      "Data columns (total 24 columns):\n",
      " #   Column                                   Non-Null Count  Dtype  \n",
      "---  ------                                   --------------  -----  \n",
      " 0   InternetService_DSL                      3944 non-null   float64\n",
      " 1   InternetService_Fiber optic              3944 non-null   float64\n",
      " 2   InternetService_No                       3944 non-null   float64\n",
      " 3   PaymentMethod_Bank transfer (automatic)  3944 non-null   float64\n",
      " 4   PaymentMethod_Credit card (automatic)    3944 non-null   float64\n",
      " 5   PaymentMethod_Electronic check           3944 non-null   float64\n",
      " 6   PaymentMethod_Mailed check               3944 non-null   float64\n",
      " 7   Contract                                 3944 non-null   float64\n",
      " 8   gender                                   3944 non-null   int64  \n",
      " 9   Partner                                  3944 non-null   int64  \n",
      " 10  Dependents                               3944 non-null   int64  \n",
      " 11  PhoneService                             3944 non-null   int64  \n",
      " 12  PaperlessBilling                         3944 non-null   int64  \n",
      " 13  Tenure_(12-month_groups)                 3944 non-null   int64  \n",
      " 14  MultipleLines                            3944 non-null   int64  \n",
      " 15  OnlineSecurity                           3944 non-null   int64  \n",
      " 16  OnlineBackup                             3944 non-null   int64  \n",
      " 17  DeviceProtection                         3944 non-null   int64  \n",
      " 18  TechSupport                              3944 non-null   int64  \n",
      " 19  StreamingTV                              3944 non-null   int64  \n",
      " 20  StreamingMovies                          3944 non-null   int64  \n",
      " 21  SeniorCitizen                            3944 non-null   object \n",
      " 22  Churn                                    3944 non-null   int64  \n",
      " 23  TotalInternetServicesUsed                3944 non-null   int64  \n",
      "dtypes: float64(8), int64(15), object(1)\n",
      "memory usage: 770.3+ KB\n"
     ]
    }
   ],
   "source": [
    "X_train_mixed.info()"
   ]
  },
  {
   "cell_type": "code",
   "execution_count": 4,
   "id": "59871ca5",
   "metadata": {},
   "outputs": [
    {
     "data": {
      "text/html": [
       "<div>\n",
       "<style scoped>\n",
       "    .dataframe tbody tr th:only-of-type {\n",
       "        vertical-align: middle;\n",
       "    }\n",
       "\n",
       "    .dataframe tbody tr th {\n",
       "        vertical-align: top;\n",
       "    }\n",
       "\n",
       "    .dataframe thead th {\n",
       "        text-align: right;\n",
       "    }\n",
       "</style>\n",
       "<table border=\"1\" class=\"dataframe\">\n",
       "  <thead>\n",
       "    <tr style=\"text-align: right;\">\n",
       "      <th></th>\n",
       "      <th>InternetService_DSL</th>\n",
       "      <th>InternetService_Fiber optic</th>\n",
       "      <th>InternetService_No</th>\n",
       "      <th>PaymentMethod_Bank transfer (automatic)</th>\n",
       "      <th>PaymentMethod_Credit card (automatic)</th>\n",
       "      <th>PaymentMethod_Electronic check</th>\n",
       "      <th>PaymentMethod_Mailed check</th>\n",
       "      <th>Contract</th>\n",
       "      <th>gender</th>\n",
       "      <th>Partner</th>\n",
       "      <th>...</th>\n",
       "      <th>MultipleLines</th>\n",
       "      <th>OnlineSecurity</th>\n",
       "      <th>OnlineBackup</th>\n",
       "      <th>DeviceProtection</th>\n",
       "      <th>TechSupport</th>\n",
       "      <th>StreamingTV</th>\n",
       "      <th>StreamingMovies</th>\n",
       "      <th>SeniorCitizen</th>\n",
       "      <th>Churn</th>\n",
       "      <th>TotalInternetServicesUsed</th>\n",
       "    </tr>\n",
       "  </thead>\n",
       "  <tbody>\n",
       "    <tr>\n",
       "      <th>1075</th>\n",
       "      <td>0.0</td>\n",
       "      <td>1.0</td>\n",
       "      <td>0.0</td>\n",
       "      <td>1.0</td>\n",
       "      <td>0.0</td>\n",
       "      <td>0.0</td>\n",
       "      <td>0.0</td>\n",
       "      <td>1.0</td>\n",
       "      <td>1</td>\n",
       "      <td>1</td>\n",
       "      <td>...</td>\n",
       "      <td>0</td>\n",
       "      <td>0</td>\n",
       "      <td>0</td>\n",
       "      <td>1</td>\n",
       "      <td>0</td>\n",
       "      <td>0</td>\n",
       "      <td>0</td>\n",
       "      <td>1</td>\n",
       "      <td>0</td>\n",
       "      <td>1</td>\n",
       "    </tr>\n",
       "    <tr>\n",
       "      <th>309</th>\n",
       "      <td>0.0</td>\n",
       "      <td>0.0</td>\n",
       "      <td>1.0</td>\n",
       "      <td>1.0</td>\n",
       "      <td>0.0</td>\n",
       "      <td>0.0</td>\n",
       "      <td>0.0</td>\n",
       "      <td>0.0</td>\n",
       "      <td>0</td>\n",
       "      <td>1</td>\n",
       "      <td>...</td>\n",
       "      <td>0</td>\n",
       "      <td>0</td>\n",
       "      <td>0</td>\n",
       "      <td>0</td>\n",
       "      <td>0</td>\n",
       "      <td>0</td>\n",
       "      <td>0</td>\n",
       "      <td>1</td>\n",
       "      <td>0</td>\n",
       "      <td>0</td>\n",
       "    </tr>\n",
       "  </tbody>\n",
       "</table>\n",
       "<p>2 rows × 24 columns</p>\n",
       "</div>"
      ],
      "text/plain": [
       "      InternetService_DSL  InternetService_Fiber optic  InternetService_No  \\\n",
       "1075                  0.0                          1.0                 0.0   \n",
       "309                   0.0                          0.0                 1.0   \n",
       "\n",
       "      PaymentMethod_Bank transfer (automatic)  \\\n",
       "1075                                      1.0   \n",
       "309                                       1.0   \n",
       "\n",
       "      PaymentMethod_Credit card (automatic)  PaymentMethod_Electronic check  \\\n",
       "1075                                    0.0                             0.0   \n",
       "309                                     0.0                             0.0   \n",
       "\n",
       "      PaymentMethod_Mailed check  Contract  gender  Partner  ...  \\\n",
       "1075                         0.0       1.0       1        1  ...   \n",
       "309                          0.0       0.0       0        1  ...   \n",
       "\n",
       "      MultipleLines  OnlineSecurity  OnlineBackup  DeviceProtection  \\\n",
       "1075              0               0             0                 1   \n",
       "309               0               0             0                 0   \n",
       "\n",
       "      TechSupport  StreamingTV  StreamingMovies  SeniorCitizen  Churn  \\\n",
       "1075            0            0                0              1      0   \n",
       "309             0            0                0              1      0   \n",
       "\n",
       "      TotalInternetServicesUsed  \n",
       "1075                          1  \n",
       "309                           0  \n",
       "\n",
       "[2 rows x 24 columns]"
      ]
     },
     "execution_count": 4,
     "metadata": {},
     "output_type": "execute_result"
    }
   ],
   "source": [
    "X_train_mixed.head(2)"
   ]
  },
  {
   "cell_type": "code",
   "execution_count": 5,
   "id": "0914ad30",
   "metadata": {},
   "outputs": [],
   "source": [
    "X_train_mixed_original = X_train_mixed.copy()\n",
    "y_train_mixed_original = y_train_mixed.copy()"
   ]
  },
  {
   "cell_type": "markdown",
   "id": "29e810cd",
   "metadata": {},
   "source": [
    "## Model Training"
   ]
  },
  {
   "cell_type": "markdown",
   "id": "c7371910",
   "metadata": {},
   "source": [
    "#### Evaluation function"
   ]
  },
  {
   "cell_type": "code",
   "execution_count": 34,
   "id": "6dd8d573",
   "metadata": {},
   "outputs": [],
   "source": [
    "def evaluate_regression(y_true, y_pred, model_name=\"model\"):\n",
    "    \"\"\"Calculates and prints regression metrics.\"\"\"\n",
    "    mae = mean_absolute_error(y_true, y_pred)\n",
    "    rmse = sqrt(mean_squared_error(y_true, y_pred))\n",
    "    r2 = r2_score(y_true, y_pred)\n",
    "    print(f\"{model_name}\\nMAE: {mae:.4f}\\nRMSE: {rmse:.4f}\\nR²: {r2:.4f}\")\n",
    "    return {\"model\": model_name, \"mae\": mae, \"rmse\": rmse, \"r2\": r2}"
   ]
  },
  {
   "cell_type": "markdown",
   "id": "80758233",
   "metadata": {},
   "source": [
    "#### Feature Selection"
   ]
  },
  {
   "cell_type": "code",
   "execution_count": 7,
   "id": "527f21cc",
   "metadata": {},
   "outputs": [
    {
     "data": {
      "text/plain": [
       "Index(['InternetService_DSL', 'InternetService_Fiber optic',\n",
       "       'InternetService_No', 'PaymentMethod_Bank transfer (automatic)',\n",
       "       'PaymentMethod_Credit card (automatic)',\n",
       "       'PaymentMethod_Electronic check', 'PaymentMethod_Mailed check',\n",
       "       'Contract', 'gender', 'Partner', 'Dependents', 'PhoneService',\n",
       "       'PaperlessBilling', 'Tenure_(12-month_groups)', 'MultipleLines',\n",
       "       'OnlineSecurity', 'OnlineBackup', 'DeviceProtection', 'TechSupport',\n",
       "       'StreamingTV', 'StreamingMovies', 'SeniorCitizen', 'Churn',\n",
       "       'TotalInternetServicesUsed'],\n",
       "      dtype='object')"
      ]
     },
     "execution_count": 7,
     "metadata": {},
     "output_type": "execute_result"
    }
   ],
   "source": [
    "X_train_mixed.columns"
   ]
  },
  {
   "cell_type": "code",
   "execution_count": 8,
   "id": "ea207766",
   "metadata": {},
   "outputs": [],
   "source": [
    "features_0 = ['Tenure_(12-month_groups)', 'TotalInternetServicesUsed', 'InternetService_DSL', 'InternetService_Fiber optic', 'PhoneService', 'MultipleLines']\n",
    "features_1 = ['Tenure_(12-month_groups)', 'TotalInternetServicesUsed', 'InternetService_DSL', 'InternetService_Fiber optic', 'PhoneService', 'Churn']"
   ]
  },
  {
   "cell_type": "markdown",
   "id": "6e7a22eb",
   "metadata": {},
   "source": [
    "## 1. Linear Regression"
   ]
  },
  {
   "cell_type": "code",
   "execution_count": 35,
   "id": "5bcdc137",
   "metadata": {},
   "outputs": [
    {
     "name": "stdout",
     "output_type": "stream",
     "text": [
      "model\n",
      "MAE: 23.2190\n",
      "RMSE: 28.0507\n",
      "R²: -0.0030\n"
     ]
    }
   ],
   "source": [
    "# Linear Regression Model \n",
    "lr = LinearRegression()\n",
    "lr.fit(X_train_mixed[features_0], y_train_mixed)\n",
    "y_pred_lr = lr.predict(X_test_mixed[features_0])\n",
    "results_df = pd.DataFrame(data=[[\"Linear Regression_features_0\", *evaluate_regression(y_test_mixed, y_pred_lr)]], \n",
    "                          columns=['Model', 'MAE', 'MSE', 'RMSE', 'R2 Square'])"
   ]
  },
  {
   "cell_type": "code",
   "execution_count": 10,
   "id": "54ae7f1e",
   "metadata": {},
   "outputs": [],
   "source": [
    "pickle.dump(lr, open(\"processed_data/models/regression/linear_reg__features_0.pkl\", \"wb\"))"
   ]
  },
  {
   "cell_type": "code",
   "execution_count": null,
   "id": "5cddf228",
   "metadata": {},
   "outputs": [
    {
     "name": "stdout",
     "output_type": "stream",
     "text": [
      "Fitting 5 folds for each of 5 candidates, totalling 25 fits\n",
      "Best alpha for Ridge: 200.0\n",
      "model\n",
      "MAE: 23.2062\n",
      "RMSE: 28.0405\n",
      "R²: -0.0022\n"
     ]
    }
   ],
   "source": [
    "#  Ridge Regression with Hyperparameter Tuning\n",
    "ridge = Ridge()\n",
    "param_grid_ridge = {'alpha': [0.1, 1.0, 10.0, 100.0, 200.0]}\n",
    "\n",
    "grid_search_ridge = GridSearchCV(ridge, param_grid_ridge, cv=5, scoring='r2', n_jobs=-1, verbose=1)\n",
    "grid_search_ridge.fit(X_train_mixed[features_0], y_train_mixed)\n",
    "\n",
    "best_alpha_ridge = grid_search_ridge.best_params_['alpha']\n",
    "print(f\"Best alpha for Ridge: {best_alpha_ridge}\")\n",
    "\n",
    "y_pred_ridge = grid_search_ridge.predict(X_test_mixed[features_0])\n",
    "\n",
    "results_df_1 = pd.DataFrame(data=[[\"Linear Ridge Regression_features_0\", *evaluate_regression(y_test_mixed, y_pred_ridge)]], \n",
    "                          columns=['Model', 'MAE', 'MSE', 'RMSE', 'R2 Square'])\n",
    "results_df = pd.concat([results_df, results_df_1], ignore_index=True)\n"
   ]
  },
  {
   "cell_type": "code",
   "execution_count": 12,
   "id": "27f6dc91",
   "metadata": {},
   "outputs": [],
   "source": [
    "pickle.dump(grid_search_ridge, open(\"processed_data/models/regression/linear_ridge_features_0.pkl\", \"wb\"))"
   ]
  },
  {
   "cell_type": "code",
   "execution_count": null,
   "id": "6321797b",
   "metadata": {},
   "outputs": [
    {
     "name": "stdout",
     "output_type": "stream",
     "text": [
      "Fitting 5 folds for each of 5 candidates, totalling 25 fits\n",
      "Best alpha for Lasso: 1.0\n",
      "model\n",
      "MAE: 23.1776\n",
      "RMSE: 28.0235\n",
      "R²: -0.0010\n"
     ]
    }
   ],
   "source": [
    "# Lasso Regression with Hyperparameter Tuning\n",
    "lasso = Lasso()\n",
    "param_grid_lasso = {'alpha': [0.0001, 0.001, 0.01, 0.1, 1.0]}\n",
    "grid_search_lasso = GridSearchCV(lasso, param_grid_lasso, cv=5, scoring='r2', n_jobs=-1, verbose=1)\n",
    "grid_search_lasso.fit(X_train_mixed[features_0], y_train_mixed)\n",
    "\n",
    "best_alpha_lasso = grid_search_lasso.best_params_['alpha']\n",
    "print(f\"Best alpha for Lasso: {best_alpha_lasso}\")\n",
    "\n",
    "y_pred_lasso = grid_search_lasso.predict(X_test_mixed[features_0])\n",
    "results_df_2 = pd.DataFrame(data=[[\"Linear Lasso Regression_features_0\", *evaluate_regression(y_test_mixed, y_pred_lasso)]], \n",
    "                          columns=['Model', 'MAE', 'MSE', 'RMSE', 'R2 Square'])\n",
    "results_df = pd.concat([results_df, results_df_2], ignore_index=True)\n",
    "\n"
   ]
  },
  {
   "cell_type": "code",
   "execution_count": 14,
   "id": "56633fce",
   "metadata": {},
   "outputs": [],
   "source": [
    "pickle.dump(grid_search_lasso, open(\"processed_data/models/regression/linear_lasso_features_0.pkl\", \"wb\"))"
   ]
  },
  {
   "cell_type": "markdown",
   "id": "4fc7d8b4",
   "metadata": {},
   "source": [
    "## 2. Random Forest"
   ]
  },
  {
   "cell_type": "markdown",
   "id": "761e4dff",
   "metadata": {},
   "source": [
    "Random Forest without Hyperparameter tuning"
   ]
  },
  {
   "cell_type": "code",
   "execution_count": 15,
   "id": "27368648",
   "metadata": {},
   "outputs": [
    {
     "data": {
      "text/html": [
       "<style>#sk-container-id-1 {\n",
       "  /* Definition of color scheme common for light and dark mode */\n",
       "  --sklearn-color-text: #000;\n",
       "  --sklearn-color-text-muted: #666;\n",
       "  --sklearn-color-line: gray;\n",
       "  /* Definition of color scheme for unfitted estimators */\n",
       "  --sklearn-color-unfitted-level-0: #fff5e6;\n",
       "  --sklearn-color-unfitted-level-1: #f6e4d2;\n",
       "  --sklearn-color-unfitted-level-2: #ffe0b3;\n",
       "  --sklearn-color-unfitted-level-3: chocolate;\n",
       "  /* Definition of color scheme for fitted estimators */\n",
       "  --sklearn-color-fitted-level-0: #f0f8ff;\n",
       "  --sklearn-color-fitted-level-1: #d4ebff;\n",
       "  --sklearn-color-fitted-level-2: #b3dbfd;\n",
       "  --sklearn-color-fitted-level-3: cornflowerblue;\n",
       "\n",
       "  /* Specific color for light theme */\n",
       "  --sklearn-color-text-on-default-background: var(--sg-text-color, var(--theme-code-foreground, var(--jp-content-font-color1, black)));\n",
       "  --sklearn-color-background: var(--sg-background-color, var(--theme-background, var(--jp-layout-color0, white)));\n",
       "  --sklearn-color-border-box: var(--sg-text-color, var(--theme-code-foreground, var(--jp-content-font-color1, black)));\n",
       "  --sklearn-color-icon: #696969;\n",
       "\n",
       "  @media (prefers-color-scheme: dark) {\n",
       "    /* Redefinition of color scheme for dark theme */\n",
       "    --sklearn-color-text-on-default-background: var(--sg-text-color, var(--theme-code-foreground, var(--jp-content-font-color1, white)));\n",
       "    --sklearn-color-background: var(--sg-background-color, var(--theme-background, var(--jp-layout-color0, #111)));\n",
       "    --sklearn-color-border-box: var(--sg-text-color, var(--theme-code-foreground, var(--jp-content-font-color1, white)));\n",
       "    --sklearn-color-icon: #878787;\n",
       "  }\n",
       "}\n",
       "\n",
       "#sk-container-id-1 {\n",
       "  color: var(--sklearn-color-text);\n",
       "}\n",
       "\n",
       "#sk-container-id-1 pre {\n",
       "  padding: 0;\n",
       "}\n",
       "\n",
       "#sk-container-id-1 input.sk-hidden--visually {\n",
       "  border: 0;\n",
       "  clip: rect(1px 1px 1px 1px);\n",
       "  clip: rect(1px, 1px, 1px, 1px);\n",
       "  height: 1px;\n",
       "  margin: -1px;\n",
       "  overflow: hidden;\n",
       "  padding: 0;\n",
       "  position: absolute;\n",
       "  width: 1px;\n",
       "}\n",
       "\n",
       "#sk-container-id-1 div.sk-dashed-wrapped {\n",
       "  border: 1px dashed var(--sklearn-color-line);\n",
       "  margin: 0 0.4em 0.5em 0.4em;\n",
       "  box-sizing: border-box;\n",
       "  padding-bottom: 0.4em;\n",
       "  background-color: var(--sklearn-color-background);\n",
       "}\n",
       "\n",
       "#sk-container-id-1 div.sk-container {\n",
       "  /* jupyter's `normalize.less` sets `[hidden] { display: none; }`\n",
       "     but bootstrap.min.css set `[hidden] { display: none !important; }`\n",
       "     so we also need the `!important` here to be able to override the\n",
       "     default hidden behavior on the sphinx rendered scikit-learn.org.\n",
       "     See: https://github.com/scikit-learn/scikit-learn/issues/21755 */\n",
       "  display: inline-block !important;\n",
       "  position: relative;\n",
       "}\n",
       "\n",
       "#sk-container-id-1 div.sk-text-repr-fallback {\n",
       "  display: none;\n",
       "}\n",
       "\n",
       "div.sk-parallel-item,\n",
       "div.sk-serial,\n",
       "div.sk-item {\n",
       "  /* draw centered vertical line to link estimators */\n",
       "  background-image: linear-gradient(var(--sklearn-color-text-on-default-background), var(--sklearn-color-text-on-default-background));\n",
       "  background-size: 2px 100%;\n",
       "  background-repeat: no-repeat;\n",
       "  background-position: center center;\n",
       "}\n",
       "\n",
       "/* Parallel-specific style estimator block */\n",
       "\n",
       "#sk-container-id-1 div.sk-parallel-item::after {\n",
       "  content: \"\";\n",
       "  width: 100%;\n",
       "  border-bottom: 2px solid var(--sklearn-color-text-on-default-background);\n",
       "  flex-grow: 1;\n",
       "}\n",
       "\n",
       "#sk-container-id-1 div.sk-parallel {\n",
       "  display: flex;\n",
       "  align-items: stretch;\n",
       "  justify-content: center;\n",
       "  background-color: var(--sklearn-color-background);\n",
       "  position: relative;\n",
       "}\n",
       "\n",
       "#sk-container-id-1 div.sk-parallel-item {\n",
       "  display: flex;\n",
       "  flex-direction: column;\n",
       "}\n",
       "\n",
       "#sk-container-id-1 div.sk-parallel-item:first-child::after {\n",
       "  align-self: flex-end;\n",
       "  width: 50%;\n",
       "}\n",
       "\n",
       "#sk-container-id-1 div.sk-parallel-item:last-child::after {\n",
       "  align-self: flex-start;\n",
       "  width: 50%;\n",
       "}\n",
       "\n",
       "#sk-container-id-1 div.sk-parallel-item:only-child::after {\n",
       "  width: 0;\n",
       "}\n",
       "\n",
       "/* Serial-specific style estimator block */\n",
       "\n",
       "#sk-container-id-1 div.sk-serial {\n",
       "  display: flex;\n",
       "  flex-direction: column;\n",
       "  align-items: center;\n",
       "  background-color: var(--sklearn-color-background);\n",
       "  padding-right: 1em;\n",
       "  padding-left: 1em;\n",
       "}\n",
       "\n",
       "\n",
       "/* Toggleable style: style used for estimator/Pipeline/ColumnTransformer box that is\n",
       "clickable and can be expanded/collapsed.\n",
       "- Pipeline and ColumnTransformer use this feature and define the default style\n",
       "- Estimators will overwrite some part of the style using the `sk-estimator` class\n",
       "*/\n",
       "\n",
       "/* Pipeline and ColumnTransformer style (default) */\n",
       "\n",
       "#sk-container-id-1 div.sk-toggleable {\n",
       "  /* Default theme specific background. It is overwritten whether we have a\n",
       "  specific estimator or a Pipeline/ColumnTransformer */\n",
       "  background-color: var(--sklearn-color-background);\n",
       "}\n",
       "\n",
       "/* Toggleable label */\n",
       "#sk-container-id-1 label.sk-toggleable__label {\n",
       "  cursor: pointer;\n",
       "  display: flex;\n",
       "  width: 100%;\n",
       "  margin-bottom: 0;\n",
       "  padding: 0.5em;\n",
       "  box-sizing: border-box;\n",
       "  text-align: center;\n",
       "  align-items: start;\n",
       "  justify-content: space-between;\n",
       "  gap: 0.5em;\n",
       "}\n",
       "\n",
       "#sk-container-id-1 label.sk-toggleable__label .caption {\n",
       "  font-size: 0.6rem;\n",
       "  font-weight: lighter;\n",
       "  color: var(--sklearn-color-text-muted);\n",
       "}\n",
       "\n",
       "#sk-container-id-1 label.sk-toggleable__label-arrow:before {\n",
       "  /* Arrow on the left of the label */\n",
       "  content: \"▸\";\n",
       "  float: left;\n",
       "  margin-right: 0.25em;\n",
       "  color: var(--sklearn-color-icon);\n",
       "}\n",
       "\n",
       "#sk-container-id-1 label.sk-toggleable__label-arrow:hover:before {\n",
       "  color: var(--sklearn-color-text);\n",
       "}\n",
       "\n",
       "/* Toggleable content - dropdown */\n",
       "\n",
       "#sk-container-id-1 div.sk-toggleable__content {\n",
       "  max-height: 0;\n",
       "  max-width: 0;\n",
       "  overflow: hidden;\n",
       "  text-align: left;\n",
       "  /* unfitted */\n",
       "  background-color: var(--sklearn-color-unfitted-level-0);\n",
       "}\n",
       "\n",
       "#sk-container-id-1 div.sk-toggleable__content.fitted {\n",
       "  /* fitted */\n",
       "  background-color: var(--sklearn-color-fitted-level-0);\n",
       "}\n",
       "\n",
       "#sk-container-id-1 div.sk-toggleable__content pre {\n",
       "  margin: 0.2em;\n",
       "  border-radius: 0.25em;\n",
       "  color: var(--sklearn-color-text);\n",
       "  /* unfitted */\n",
       "  background-color: var(--sklearn-color-unfitted-level-0);\n",
       "}\n",
       "\n",
       "#sk-container-id-1 div.sk-toggleable__content.fitted pre {\n",
       "  /* unfitted */\n",
       "  background-color: var(--sklearn-color-fitted-level-0);\n",
       "}\n",
       "\n",
       "#sk-container-id-1 input.sk-toggleable__control:checked~div.sk-toggleable__content {\n",
       "  /* Expand drop-down */\n",
       "  max-height: 200px;\n",
       "  max-width: 100%;\n",
       "  overflow: auto;\n",
       "}\n",
       "\n",
       "#sk-container-id-1 input.sk-toggleable__control:checked~label.sk-toggleable__label-arrow:before {\n",
       "  content: \"▾\";\n",
       "}\n",
       "\n",
       "/* Pipeline/ColumnTransformer-specific style */\n",
       "\n",
       "#sk-container-id-1 div.sk-label input.sk-toggleable__control:checked~label.sk-toggleable__label {\n",
       "  color: var(--sklearn-color-text);\n",
       "  background-color: var(--sklearn-color-unfitted-level-2);\n",
       "}\n",
       "\n",
       "#sk-container-id-1 div.sk-label.fitted input.sk-toggleable__control:checked~label.sk-toggleable__label {\n",
       "  background-color: var(--sklearn-color-fitted-level-2);\n",
       "}\n",
       "\n",
       "/* Estimator-specific style */\n",
       "\n",
       "/* Colorize estimator box */\n",
       "#sk-container-id-1 div.sk-estimator input.sk-toggleable__control:checked~label.sk-toggleable__label {\n",
       "  /* unfitted */\n",
       "  background-color: var(--sklearn-color-unfitted-level-2);\n",
       "}\n",
       "\n",
       "#sk-container-id-1 div.sk-estimator.fitted input.sk-toggleable__control:checked~label.sk-toggleable__label {\n",
       "  /* fitted */\n",
       "  background-color: var(--sklearn-color-fitted-level-2);\n",
       "}\n",
       "\n",
       "#sk-container-id-1 div.sk-label label.sk-toggleable__label,\n",
       "#sk-container-id-1 div.sk-label label {\n",
       "  /* The background is the default theme color */\n",
       "  color: var(--sklearn-color-text-on-default-background);\n",
       "}\n",
       "\n",
       "/* On hover, darken the color of the background */\n",
       "#sk-container-id-1 div.sk-label:hover label.sk-toggleable__label {\n",
       "  color: var(--sklearn-color-text);\n",
       "  background-color: var(--sklearn-color-unfitted-level-2);\n",
       "}\n",
       "\n",
       "/* Label box, darken color on hover, fitted */\n",
       "#sk-container-id-1 div.sk-label.fitted:hover label.sk-toggleable__label.fitted {\n",
       "  color: var(--sklearn-color-text);\n",
       "  background-color: var(--sklearn-color-fitted-level-2);\n",
       "}\n",
       "\n",
       "/* Estimator label */\n",
       "\n",
       "#sk-container-id-1 div.sk-label label {\n",
       "  font-family: monospace;\n",
       "  font-weight: bold;\n",
       "  display: inline-block;\n",
       "  line-height: 1.2em;\n",
       "}\n",
       "\n",
       "#sk-container-id-1 div.sk-label-container {\n",
       "  text-align: center;\n",
       "}\n",
       "\n",
       "/* Estimator-specific */\n",
       "#sk-container-id-1 div.sk-estimator {\n",
       "  font-family: monospace;\n",
       "  border: 1px dotted var(--sklearn-color-border-box);\n",
       "  border-radius: 0.25em;\n",
       "  box-sizing: border-box;\n",
       "  margin-bottom: 0.5em;\n",
       "  /* unfitted */\n",
       "  background-color: var(--sklearn-color-unfitted-level-0);\n",
       "}\n",
       "\n",
       "#sk-container-id-1 div.sk-estimator.fitted {\n",
       "  /* fitted */\n",
       "  background-color: var(--sklearn-color-fitted-level-0);\n",
       "}\n",
       "\n",
       "/* on hover */\n",
       "#sk-container-id-1 div.sk-estimator:hover {\n",
       "  /* unfitted */\n",
       "  background-color: var(--sklearn-color-unfitted-level-2);\n",
       "}\n",
       "\n",
       "#sk-container-id-1 div.sk-estimator.fitted:hover {\n",
       "  /* fitted */\n",
       "  background-color: var(--sklearn-color-fitted-level-2);\n",
       "}\n",
       "\n",
       "/* Specification for estimator info (e.g. \"i\" and \"?\") */\n",
       "\n",
       "/* Common style for \"i\" and \"?\" */\n",
       "\n",
       ".sk-estimator-doc-link,\n",
       "a:link.sk-estimator-doc-link,\n",
       "a:visited.sk-estimator-doc-link {\n",
       "  float: right;\n",
       "  font-size: smaller;\n",
       "  line-height: 1em;\n",
       "  font-family: monospace;\n",
       "  background-color: var(--sklearn-color-background);\n",
       "  border-radius: 1em;\n",
       "  height: 1em;\n",
       "  width: 1em;\n",
       "  text-decoration: none !important;\n",
       "  margin-left: 0.5em;\n",
       "  text-align: center;\n",
       "  /* unfitted */\n",
       "  border: var(--sklearn-color-unfitted-level-1) 1pt solid;\n",
       "  color: var(--sklearn-color-unfitted-level-1);\n",
       "}\n",
       "\n",
       ".sk-estimator-doc-link.fitted,\n",
       "a:link.sk-estimator-doc-link.fitted,\n",
       "a:visited.sk-estimator-doc-link.fitted {\n",
       "  /* fitted */\n",
       "  border: var(--sklearn-color-fitted-level-1) 1pt solid;\n",
       "  color: var(--sklearn-color-fitted-level-1);\n",
       "}\n",
       "\n",
       "/* On hover */\n",
       "div.sk-estimator:hover .sk-estimator-doc-link:hover,\n",
       ".sk-estimator-doc-link:hover,\n",
       "div.sk-label-container:hover .sk-estimator-doc-link:hover,\n",
       ".sk-estimator-doc-link:hover {\n",
       "  /* unfitted */\n",
       "  background-color: var(--sklearn-color-unfitted-level-3);\n",
       "  color: var(--sklearn-color-background);\n",
       "  text-decoration: none;\n",
       "}\n",
       "\n",
       "div.sk-estimator.fitted:hover .sk-estimator-doc-link.fitted:hover,\n",
       ".sk-estimator-doc-link.fitted:hover,\n",
       "div.sk-label-container:hover .sk-estimator-doc-link.fitted:hover,\n",
       ".sk-estimator-doc-link.fitted:hover {\n",
       "  /* fitted */\n",
       "  background-color: var(--sklearn-color-fitted-level-3);\n",
       "  color: var(--sklearn-color-background);\n",
       "  text-decoration: none;\n",
       "}\n",
       "\n",
       "/* Span, style for the box shown on hovering the info icon */\n",
       ".sk-estimator-doc-link span {\n",
       "  display: none;\n",
       "  z-index: 9999;\n",
       "  position: relative;\n",
       "  font-weight: normal;\n",
       "  right: .2ex;\n",
       "  padding: .5ex;\n",
       "  margin: .5ex;\n",
       "  width: min-content;\n",
       "  min-width: 20ex;\n",
       "  max-width: 50ex;\n",
       "  color: var(--sklearn-color-text);\n",
       "  box-shadow: 2pt 2pt 4pt #999;\n",
       "  /* unfitted */\n",
       "  background: var(--sklearn-color-unfitted-level-0);\n",
       "  border: .5pt solid var(--sklearn-color-unfitted-level-3);\n",
       "}\n",
       "\n",
       ".sk-estimator-doc-link.fitted span {\n",
       "  /* fitted */\n",
       "  background: var(--sklearn-color-fitted-level-0);\n",
       "  border: var(--sklearn-color-fitted-level-3);\n",
       "}\n",
       "\n",
       ".sk-estimator-doc-link:hover span {\n",
       "  display: block;\n",
       "}\n",
       "\n",
       "/* \"?\"-specific style due to the `<a>` HTML tag */\n",
       "\n",
       "#sk-container-id-1 a.estimator_doc_link {\n",
       "  float: right;\n",
       "  font-size: 1rem;\n",
       "  line-height: 1em;\n",
       "  font-family: monospace;\n",
       "  background-color: var(--sklearn-color-background);\n",
       "  border-radius: 1rem;\n",
       "  height: 1rem;\n",
       "  width: 1rem;\n",
       "  text-decoration: none;\n",
       "  /* unfitted */\n",
       "  color: var(--sklearn-color-unfitted-level-1);\n",
       "  border: var(--sklearn-color-unfitted-level-1) 1pt solid;\n",
       "}\n",
       "\n",
       "#sk-container-id-1 a.estimator_doc_link.fitted {\n",
       "  /* fitted */\n",
       "  border: var(--sklearn-color-fitted-level-1) 1pt solid;\n",
       "  color: var(--sklearn-color-fitted-level-1);\n",
       "}\n",
       "\n",
       "/* On hover */\n",
       "#sk-container-id-1 a.estimator_doc_link:hover {\n",
       "  /* unfitted */\n",
       "  background-color: var(--sklearn-color-unfitted-level-3);\n",
       "  color: var(--sklearn-color-background);\n",
       "  text-decoration: none;\n",
       "}\n",
       "\n",
       "#sk-container-id-1 a.estimator_doc_link.fitted:hover {\n",
       "  /* fitted */\n",
       "  background-color: var(--sklearn-color-fitted-level-3);\n",
       "}\n",
       "</style><div id=\"sk-container-id-1\" class=\"sk-top-container\"><div class=\"sk-text-repr-fallback\"><pre>RandomForestRegressor(criterion=&#x27;absolute_error&#x27;, max_depth=10,\n",
       "                      max_features=&#x27;sqrt&#x27;, min_samples_leaf=2, n_estimators=300,\n",
       "                      random_state=42)</pre><b>In a Jupyter environment, please rerun this cell to show the HTML representation or trust the notebook. <br />On GitHub, the HTML representation is unable to render, please try loading this page with nbviewer.org.</b></div><div class=\"sk-container\" hidden><div class=\"sk-item\"><div class=\"sk-estimator fitted sk-toggleable\"><input class=\"sk-toggleable__control sk-hidden--visually\" id=\"sk-estimator-id-1\" type=\"checkbox\" checked><label for=\"sk-estimator-id-1\" class=\"sk-toggleable__label fitted sk-toggleable__label-arrow\"><div><div>RandomForestRegressor</div></div><div><a class=\"sk-estimator-doc-link fitted\" rel=\"noreferrer\" target=\"_blank\" href=\"https://scikit-learn.org/1.6/modules/generated/sklearn.ensemble.RandomForestRegressor.html\">?<span>Documentation for RandomForestRegressor</span></a><span class=\"sk-estimator-doc-link fitted\">i<span>Fitted</span></span></div></label><div class=\"sk-toggleable__content fitted\"><pre>RandomForestRegressor(criterion=&#x27;absolute_error&#x27;, max_depth=10,\n",
       "                      max_features=&#x27;sqrt&#x27;, min_samples_leaf=2, n_estimators=300,\n",
       "                      random_state=42)</pre></div> </div></div></div></div>"
      ],
      "text/plain": [
       "RandomForestRegressor(criterion='absolute_error', max_depth=10,\n",
       "                      max_features='sqrt', min_samples_leaf=2, n_estimators=300,\n",
       "                      random_state=42)"
      ]
     },
     "execution_count": 15,
     "metadata": {},
     "output_type": "execute_result"
    }
   ],
   "source": [
    "rf = RandomForestRegressor(n_estimators=300, max_depth=10, min_samples_split=2, min_samples_leaf=2, max_features='sqrt', random_state=42, criterion='absolute_error')\n",
    "rf.fit(X_train_mixed[features_0], y_train_mixed)"
   ]
  },
  {
   "cell_type": "code",
   "execution_count": 16,
   "id": "c783c22b",
   "metadata": {},
   "outputs": [
    {
     "name": "stdout",
     "output_type": "stream",
     "text": [
      "model\n",
      "MAE: 23.8206\n",
      "RMSE: 28.7122\n",
      "R²: -0.0508\n"
     ]
    }
   ],
   "source": [
    "y_pred_rf = rf.predict(X_test_mixed[features_0])\n",
    "results_df_3 = pd.DataFrame(data=[[\"Random Forest_features_0\", *evaluate_regression(y_test_mixed, y_pred_rf)]], \n",
    "                          columns=['Model', 'MAE', 'MSE', 'RMSE', 'R2 Square'])\n",
    "results_df = pd.concat([results_df, results_df_3], ignore_index=True)\n"
   ]
  },
  {
   "cell_type": "code",
   "execution_count": 17,
   "id": "9eccc3f4",
   "metadata": {},
   "outputs": [],
   "source": [
    "pickle.dump(rf, open(\"processed_data/models/regression/rf_model_features_0.pkl\", \"wb\"))"
   ]
  },
  {
   "cell_type": "markdown",
   "id": "acd7849d",
   "metadata": {},
   "source": [
    "Random Forest with Hyperparameter tuning"
   ]
  },
  {
   "cell_type": "code",
   "execution_count": null,
   "id": "903f5098",
   "metadata": {},
   "outputs": [
    {
     "name": "stdout",
     "output_type": "stream",
     "text": [
      "Fitting 3 folds for each of 162 candidates, totalling 486 fits\n",
      "Best Parameters: {'max_depth': 5, 'max_features': 'sqrt', 'min_samples_leaf': 4, 'min_samples_split': 10, 'n_estimators': 500}\n",
      "Best R2 Score: -0.011561817865485194\n"
     ]
    }
   ],
   "source": [
    "rf_tuned = RandomForestRegressor(random_state=42)\n",
    "\n",
    "param_grid = {\n",
    "    'n_estimators': [100, 200, 500],        # number of trees\n",
    "    'max_depth': [5, 10, 20],               # tree depth\n",
    "    'min_samples_split': [2, 5, 10],        # min samples to split\n",
    "    'min_samples_leaf': [1, 2, 4],          # min samples in a leaf\n",
    "    'max_features': ['sqrt', 'log2']  # feature selection per split\n",
    "}\n",
    "\n",
    "grid_search_rf = GridSearchCV(estimator=rf, param_grid=param_grid, scoring='r2', cv=3,n_jobs=-1,verbose=2)\n",
    "grid_search_rf.fit(X_train_mixed[features_0], y_train_mixed)\n",
    "\n",
    "print(\"Best Parameters:\", grid_search_rf.best_params_)\n",
    "print(\"Best R2 Score:\", grid_search_rf.best_score_)"
   ]
  },
  {
   "cell_type": "code",
   "execution_count": 19,
   "id": "b14e6d3e",
   "metadata": {},
   "outputs": [
    {
     "name": "stdout",
     "output_type": "stream",
     "text": [
      "model\n",
      "MAE: 23.3326\n",
      "RMSE: 28.1908\n",
      "R²: -0.0130\n"
     ]
    }
   ],
   "source": [
    "y_pred_rf_tuned = grid_search_rf.predict(X_test_mixed[features_0])\n",
    "results_df_4 = pd.DataFrame(data=[[\"Random Forest Tuned_features_0\", *evaluate_regression(y_test_mixed, y_pred_rf_tuned)]], \n",
    "                          columns=['Model', 'MAE', 'MSE', 'RMSE', 'R2 Square'])\n",
    "results_df = pd.concat([results_df, results_df_4], ignore_index=True)"
   ]
  },
  {
   "cell_type": "code",
   "execution_count": 20,
   "id": "4d2b57d7",
   "metadata": {},
   "outputs": [],
   "source": [
    "pickle.dump(grid_search_rf, open(\"processed_data/models/regression/rf_tuned_model_features_0.pkl\", \"wb\"))"
   ]
  },
  {
   "cell_type": "markdown",
   "id": "3e17c3d4",
   "metadata": {},
   "source": [
    "## 3. XGBoost"
   ]
  },
  {
   "cell_type": "code",
   "execution_count": 21,
   "id": "31b5ad58",
   "metadata": {},
   "outputs": [],
   "source": [
    "xgb = XGBRegressor(n_estimators=500, learning_rate=0.1, max_depth=5, subsample=0.8, colsample_bytree=0.8, random_state=42)"
   ]
  },
  {
   "cell_type": "code",
   "execution_count": 22,
   "id": "0c4747fc",
   "metadata": {},
   "outputs": [],
   "source": [
    "xgb.fit(X_train_mixed[features_0], y_train_mixed)\n",
    "y_pred_xgb = xgb.predict(X_test_mixed[features_0])"
   ]
  },
  {
   "cell_type": "code",
   "execution_count": 23,
   "id": "b226bdfa",
   "metadata": {},
   "outputs": [
    {
     "name": "stdout",
     "output_type": "stream",
     "text": [
      "model\n",
      "MAE: 23.6865\n",
      "RMSE: 28.6001\n",
      "R²: -0.0427\n"
     ]
    }
   ],
   "source": [
    "results_df_5 = pd.DataFrame(data=[[\"XGBoost_features_0\", *evaluate_regression(y_test_mixed, y_pred_xgb)]], \n",
    "                          columns=['Model', 'MAE', 'MSE', 'RMSE', 'R2 Square'])\n",
    "results_df = pd.concat([results_df, results_df_5], ignore_index=True)"
   ]
  },
  {
   "cell_type": "code",
   "execution_count": 24,
   "id": "3554b328",
   "metadata": {},
   "outputs": [],
   "source": [
    "pickle.dump(xgb, open(\"processed_data/models/regression/xgb_model_features_0.pkl\", \"wb\"))"
   ]
  },
  {
   "cell_type": "markdown",
   "id": "6e51cd43",
   "metadata": {},
   "source": [
    "XGB with Hyperparameter tuning"
   ]
  },
  {
   "cell_type": "code",
   "execution_count": 25,
   "id": "48a98686",
   "metadata": {},
   "outputs": [
    {
     "name": "stdout",
     "output_type": "stream",
     "text": [
      "Fitting 3 folds for each of 324 candidates, totalling 972 fits\n",
      "Best Parameters: {'colsample_bytree': 0.7, 'learning_rate': 0.01, 'max_depth': 3, 'min_child_weight': 1, 'n_estimators': 200, 'subsample': 0.8}\n",
      "Best R² Score from CV: -0.00941831128871525\n"
     ]
    }
   ],
   "source": [
    "param_grid = {\n",
    "    'n_estimators': [200, 500],\n",
    "    'learning_rate': [0.01, 0.1],\n",
    "    'max_depth': [3, 5, 7],\n",
    "    'subsample': [0.7, 0.8, 1.0],\n",
    "    'colsample_bytree': [0.7, 0.8, 1.0],\n",
    "    'min_child_weight': [1, 3, 5]\n",
    "}\n",
    "\n",
    "grid_search_xgb = GridSearchCV(estimator=xgb, param_grid=param_grid, scoring='r2', cv=3, verbose=2, n_jobs=-1)\n",
    "\n",
    "grid_search_xgb.fit(X_train_mixed[features_0], y_train_mixed)\n",
    "\n",
    "print(f\"Best Parameters: {grid_search_xgb.best_params_}\")\n",
    "print(f\"Best R² Score from CV: {grid_search_xgb.best_score_}\")"
   ]
  },
  {
   "cell_type": "code",
   "execution_count": 26,
   "id": "e59be1e1",
   "metadata": {},
   "outputs": [],
   "source": [
    "# Evaluate tuned model\n",
    "best_xgb = grid_search_xgb.best_estimator_\n",
    "y_pred_xgb_tuned = best_xgb.predict(X_test_mixed[features_0])"
   ]
  },
  {
   "cell_type": "code",
   "execution_count": 31,
   "id": "6e6ba9dc",
   "metadata": {},
   "outputs": [
    {
     "name": "stdout",
     "output_type": "stream",
     "text": [
      "model\n",
      "MAE: 23.2286\n",
      "RMSE: 28.0642\n",
      "R²: -0.0039\n"
     ]
    }
   ],
   "source": [
    "results_df_6 = pd.DataFrame(data=[[\"XGBoost tuned_features_0\", *evaluate_regression(y_test_mixed, y_pred_xgb_tuned)]], \n",
    "                          columns=['Model', 'MAE', 'MSE', 'RMSE', 'R2 Square'])\n",
    "results_df = pd.concat([results_df, results_df_6], ignore_index=True)"
   ]
  },
  {
   "cell_type": "code",
   "execution_count": 28,
   "id": "896277ad",
   "metadata": {},
   "outputs": [],
   "source": [
    "pickle.dump(best_xgb, open(\"processed_data/models/regression/xgb_tuned_model_features_0.pkl\", \"wb\"))"
   ]
  },
  {
   "cell_type": "code",
   "execution_count": null,
   "id": "5ed60ca8",
   "metadata": {},
   "outputs": [],
   "source": []
  }
 ],
 "metadata": {
  "kernelspec": {
   "display_name": ".venv",
   "language": "python",
   "name": "python3"
  },
  "language_info": {
   "codemirror_mode": {
    "name": "ipython",
    "version": 3
   },
   "file_extension": ".py",
   "mimetype": "text/x-python",
   "name": "python",
   "nbconvert_exporter": "python",
   "pygments_lexer": "ipython3",
   "version": "3.10.11"
  }
 },
 "nbformat": 4,
 "nbformat_minor": 5
}
