{
 "cells": [
  {
   "cell_type": "markdown",
   "id": "38802865",
   "metadata": {},
   "source": [
    "# Preprocessing Pipeline"
   ]
  },
  {
   "cell_type": "markdown",
   "id": "c04cf802",
   "metadata": {},
   "source": [
    "## Encoding pipeline"
   ]
  },
  {
   "cell_type": "markdown",
   "id": "e4f842c3",
   "metadata": {},
   "source": [
    "### Importing Libraries"
   ]
  },
  {
   "cell_type": "code",
   "execution_count": 1,
   "id": "72f8c024",
   "metadata": {},
   "outputs": [],
   "source": [
    "import pickle\n",
    "import pandas as pd\n",
    "from sklearn.compose import ColumnTransformer\n",
    "from sklearn.preprocessing import OneHotEncoder, OrdinalEncoder, LabelEncoder\n",
    "from sklearn.base import BaseEstimator, TransformerMixin\n",
    "from sklearn.pipeline import Pipeline\n",
    "from sklearn.model_selection import train_test_split"
   ]
  },
  {
   "cell_type": "markdown",
   "id": "5c1161e9",
   "metadata": {},
   "source": [
    "### Load cleaned data"
   ]
  },
  {
   "cell_type": "code",
   "execution_count": 2,
   "id": "eb78aabe",
   "metadata": {},
   "outputs": [
    {
     "name": "stdout",
     "output_type": "stream",
     "text": [
      "Cleaned data loaded\n"
     ]
    }
   ],
   "source": [
    "df = pd.read_pickle(\"processed_data/cleaned_data.pkl\")\n",
    "print(\"Cleaned data loaded\")"
   ]
  },
  {
   "cell_type": "code",
   "execution_count": 3,
   "id": "822176af",
   "metadata": {},
   "outputs": [
    {
     "name": "stdout",
     "output_type": "stream",
     "text": [
      "<class 'pandas.core.frame.DataFrame'>\n",
      "Index: 4931 entries, 0 to 4999\n",
      "Data columns (total 20 columns):\n",
      " #   Column                     Non-Null Count  Dtype   \n",
      "---  ------                     --------------  -----   \n",
      " 0   gender                     4931 non-null   object  \n",
      " 1   SeniorCitizen              4931 non-null   object  \n",
      " 2   Partner                    4931 non-null   object  \n",
      " 3   Dependents                 4931 non-null   object  \n",
      " 4   PhoneService               4931 non-null   object  \n",
      " 5   MultipleLines              4931 non-null   object  \n",
      " 6   InternetService            4931 non-null   object  \n",
      " 7   OnlineSecurity             4931 non-null   object  \n",
      " 8   OnlineBackup               4931 non-null   object  \n",
      " 9   DeviceProtection           4931 non-null   object  \n",
      " 10  TechSupport                4931 non-null   object  \n",
      " 11  StreamingTV                4931 non-null   object  \n",
      " 12  StreamingMovies            4931 non-null   object  \n",
      " 13  Contract                   4931 non-null   object  \n",
      " 14  PaperlessBilling           4931 non-null   object  \n",
      " 15  PaymentMethod              4931 non-null   object  \n",
      " 16  MonthlyCharges             4931 non-null   float64 \n",
      " 17  Churn                      4931 non-null   int64   \n",
      " 18  TotalInternetServicesUsed  4931 non-null   int64   \n",
      " 19  Tenure_(12-month_groups)   4931 non-null   category\n",
      "dtypes: category(1), float64(1), int64(2), object(16)\n",
      "memory usage: 775.4+ KB\n"
     ]
    }
   ],
   "source": [
    "df.info()"
   ]
  },
  {
   "cell_type": "markdown",
   "id": "84698692",
   "metadata": {},
   "source": [
    "### Pipeline"
   ]
  },
  {
   "cell_type": "markdown",
   "id": "69015f96",
   "metadata": {},
   "source": [
    "### 1. Encoding pipeline "
   ]
  },
  {
   "cell_type": "markdown",
   "id": "db1c590b",
   "metadata": {},
   "source": [
    "#### Custom transformer for multi-column LabelEncoder"
   ]
  },
  {
   "cell_type": "code",
   "execution_count": 4,
   "id": "e38e90d5",
   "metadata": {},
   "outputs": [],
   "source": [
    "# Custom transformer for multi-column LabelEncoder\n",
    "class MultiColumnLabelEncoder(BaseEstimator, TransformerMixin):\n",
    "    def __init__(self, columns=None):\n",
    "        self.columns = columns\n",
    "        self.encoders_ = {}\n",
    "\n",
    "    def fit(self, X, y=None):\n",
    "        if self.columns is not None:\n",
    "            for col in self.columns:\n",
    "                le = LabelEncoder()\n",
    "                # Fit on the specific column\n",
    "                le.fit(X[col].values)\n",
    "                self.encoders_[col] = le\n",
    "        return self\n",
    "    \n",
    "    def transform(self, X):\n",
    "        X_copy = X.copy()\n",
    "        if self.columns is not None:\n",
    "            for col in self.columns:\n",
    "                X_copy[col] = self.encoders_[col].transform(X_copy[col].values)\n",
    "        return X_copy"
   ]
  },
  {
   "cell_type": "code",
   "execution_count": 5,
   "id": "c48e4992",
   "metadata": {},
   "outputs": [
    {
     "data": {
      "text/plain": [
       "CategoricalDtype(categories=[[1, 13), [13, 25), [25, 37), [37, 49), [49, 61), [61, 73)], ordered=True, categories_dtype=interval[int64, left])"
      ]
     },
     "execution_count": 5,
     "metadata": {},
     "output_type": "execute_result"
    }
   ],
   "source": [
    "df['Tenure_(12-month_groups)'].dtype"
   ]
  },
  {
   "cell_type": "code",
   "execution_count": 6,
   "id": "35a86de3",
   "metadata": {},
   "outputs": [],
   "source": [
    "df['Tenure_(12-month_groups)'] = df['Tenure_(12-month_groups)'].apply(lambda x: f\"{x.left} - {x.right}\")"
   ]
  },
  {
   "cell_type": "code",
   "execution_count": 7,
   "id": "eff9d062",
   "metadata": {},
   "outputs": [],
   "source": [
    "# Define the column transformers for different encoding types\n",
    "one_hot_cols = ['InternetService', 'PaymentMethod']  \n",
    "ordinal_cols = ['Contract']\n",
    "label_cols = ['gender', 'Partner', 'Dependents', 'PhoneService', 'PaperlessBilling', 'Tenure_(12-month_groups)']  \n",
    "internet_service_label_cols = ['MultipleLines', 'OnlineSecurity', 'OnlineBackup', 'DeviceProtection', 'TechSupport', 'StreamingTV', 'StreamingMovies']\n",
    "\n",
    "# Create transformers\n",
    "one_hot_transformer = OneHotEncoder(drop=None, sparse_output=False)\n",
    "ordinal_transformer = OrdinalEncoder(categories=[['Month-to-month', 'One year', 'Two year']])\n",
    "\n",
    "# Combine transformers into ColumnTransformer\n",
    "# Use custom transformer for label_cols and internet_service_label_cols\n",
    "encoder_preprocessor_mixed = ColumnTransformer(\n",
    "    transformers=[\n",
    "        ('onehot', one_hot_transformer, one_hot_cols),\n",
    "        ('ordinal', ordinal_transformer, ordinal_cols),\n",
    "        ('label', MultiColumnLabelEncoder(columns=label_cols), label_cols),\n",
    "        ('internet_label', MultiColumnLabelEncoder(columns=internet_service_label_cols), internet_service_label_cols)\n",
    "    ],\n",
    "    remainder='passthrough'  # Keep other columns as they are\n",
    ")\n",
    "\n",
    "# Create the pipeline\n",
    "pipeline_mixed_encoding = Pipeline(steps=[\n",
    "    ('encoder_preprocessor', encoder_preprocessor_mixed)\n",
    "])"
   ]
  },
  {
   "cell_type": "code",
   "execution_count": 8,
   "id": "9f74745d",
   "metadata": {},
   "outputs": [
    {
     "name": "stdout",
     "output_type": "stream",
     "text": [
      "[[0.0 1.0 0.0 ... 96.48 0 2]\n",
      " [0.0 0.0 1.0 ... 87.58 0 0]\n",
      " [0.0 0.0 1.0 ... 79.78 0 0]\n",
      " ...\n",
      " [0.0 0.0 1.0 ... 91.49 0 0]\n",
      " [0.0 0.0 1.0 ... 47.74 0 0]\n",
      " [0.0 0.0 1.0 ... 67.31 1 0]] ['InternetService_DSL', 'InternetService_Fiber optic', 'InternetService_No', 'PaymentMethod_Bank transfer (automatic)', 'PaymentMethod_Credit card (automatic)', 'PaymentMethod_Electronic check', 'PaymentMethod_Mailed check', 'Contract', 'gender', 'Partner', 'Dependents', 'PhoneService', 'PaperlessBilling', 'Tenure_(12-month_groups)', 'MultipleLines', 'OnlineSecurity', 'OnlineBackup', 'DeviceProtection', 'TechSupport', 'StreamingTV', 'StreamingMovies', 'SeniorCitizen', 'MonthlyCharges', 'Churn', 'TotalInternetServicesUsed']\n",
      "Shape of data for tree models: (4931, 25)\n",
      "<class 'pandas.core.frame.DataFrame'>\n",
      "RangeIndex: 4931 entries, 0 to 4930\n",
      "Data columns (total 25 columns):\n",
      " #   Column                                   Non-Null Count  Dtype  \n",
      "---  ------                                   --------------  -----  \n",
      " 0   InternetService_DSL                      4931 non-null   float64\n",
      " 1   InternetService_Fiber optic              4931 non-null   float64\n",
      " 2   InternetService_No                       4931 non-null   float64\n",
      " 3   PaymentMethod_Bank transfer (automatic)  4931 non-null   float64\n",
      " 4   PaymentMethod_Credit card (automatic)    4931 non-null   float64\n",
      " 5   PaymentMethod_Electronic check           4931 non-null   float64\n",
      " 6   PaymentMethod_Mailed check               4931 non-null   float64\n",
      " 7   Contract                                 4931 non-null   float64\n",
      " 8   gender                                   4931 non-null   int64  \n",
      " 9   Partner                                  4931 non-null   int64  \n",
      " 10  Dependents                               4931 non-null   int64  \n",
      " 11  PhoneService                             4931 non-null   int64  \n",
      " 12  PaperlessBilling                         4931 non-null   int64  \n",
      " 13  Tenure_(12-month_groups)                 4931 non-null   int64  \n",
      " 14  MultipleLines                            4931 non-null   int64  \n",
      " 15  OnlineSecurity                           4931 non-null   int64  \n",
      " 16  OnlineBackup                             4931 non-null   int64  \n",
      " 17  DeviceProtection                         4931 non-null   int64  \n",
      " 18  TechSupport                              4931 non-null   int64  \n",
      " 19  StreamingTV                              4931 non-null   int64  \n",
      " 20  StreamingMovies                          4931 non-null   int64  \n",
      " 21  SeniorCitizen                            4931 non-null   object \n",
      " 22  MonthlyCharges                           4931 non-null   float64\n",
      " 23  Churn                                    4931 non-null   int64  \n",
      " 24  TotalInternetServicesUsed                4931 non-null   int64  \n",
      "dtypes: float64(9), int64(15), object(1)\n",
      "memory usage: 963.2+ KB\n",
      "\n",
      " Data for general models saved to data_mixed_encoded.pkl\n"
     ]
    }
   ],
   "source": [
    "# Fit the mixed pipeline\n",
    "df_mixed_encoded = pipeline_mixed_encoding.fit_transform(df)\n",
    "\n",
    "# Manually construct feature names for the tree pipeline\n",
    "feature_names_mixed = []\n",
    "onehot_names = pipeline_mixed_encoding.named_steps['encoder_preprocessor'].named_transformers_['onehot'].get_feature_names_out(one_hot_cols)\n",
    "feature_names_mixed.extend(onehot_names)\n",
    "feature_names_mixed.extend(ordinal_cols)\n",
    "feature_names_mixed.extend(label_cols)\n",
    "feature_names_mixed.extend(internet_service_label_cols)\n",
    "remainder_features = [col for col in df.columns if col not in (one_hot_cols + ordinal_cols + label_cols + internet_service_label_cols)]\n",
    "feature_names_mixed.extend(remainder_features)\n",
    "\n",
    "print(df_mixed_encoded, feature_names_mixed)\n",
    "\n",
    "# Create a DataFrame and save it\n",
    "df_mixed_encoded = pd.DataFrame(df_mixed_encoded, columns=feature_names_mixed)\n",
    "\n",
    "# remapping object to correct data type\n",
    "df_mixed_encoded = df_mixed_encoded.infer_objects()\n",
    "\n",
    "print(\"Shape of data for tree models:\", df_mixed_encoded.shape)\n",
    "df_mixed_encoded.info()\n",
    "\n",
    "# Save data for models\n",
    "df_mixed_encoded.to_pickle(\"processed_data/data_mixed_encoded.pkl\")\n",
    "print(\"\\n Data for general models saved to data_mixed_encoded.pkl\")"
   ]
  },
  {
   "cell_type": "code",
   "execution_count": 9,
   "id": "47b8fc7b",
   "metadata": {},
   "outputs": [
    {
     "name": "stdout",
     "output_type": "stream",
     "text": [
      "<class 'pandas.core.frame.DataFrame'>\n",
      "RangeIndex: 4931 entries, 0 to 4930\n",
      "Data columns (total 25 columns):\n",
      " #   Column                                   Non-Null Count  Dtype  \n",
      "---  ------                                   --------------  -----  \n",
      " 0   InternetService_DSL                      4931 non-null   float64\n",
      " 1   InternetService_Fiber optic              4931 non-null   float64\n",
      " 2   InternetService_No                       4931 non-null   float64\n",
      " 3   PaymentMethod_Bank transfer (automatic)  4931 non-null   float64\n",
      " 4   PaymentMethod_Credit card (automatic)    4931 non-null   float64\n",
      " 5   PaymentMethod_Electronic check           4931 non-null   float64\n",
      " 6   PaymentMethod_Mailed check               4931 non-null   float64\n",
      " 7   Contract                                 4931 non-null   float64\n",
      " 8   gender                                   4931 non-null   int64  \n",
      " 9   Partner                                  4931 non-null   int64  \n",
      " 10  Dependents                               4931 non-null   int64  \n",
      " 11  PhoneService                             4931 non-null   int64  \n",
      " 12  PaperlessBilling                         4931 non-null   int64  \n",
      " 13  Tenure_(12-month_groups)                 4931 non-null   int64  \n",
      " 14  MultipleLines                            4931 non-null   int64  \n",
      " 15  OnlineSecurity                           4931 non-null   int64  \n",
      " 16  OnlineBackup                             4931 non-null   int64  \n",
      " 17  DeviceProtection                         4931 non-null   int64  \n",
      " 18  TechSupport                              4931 non-null   int64  \n",
      " 19  StreamingTV                              4931 non-null   int64  \n",
      " 20  StreamingMovies                          4931 non-null   int64  \n",
      " 21  SeniorCitizen                            4931 non-null   object \n",
      " 22  MonthlyCharges                           4931 non-null   float64\n",
      " 23  Churn                                    4931 non-null   int64  \n",
      " 24  TotalInternetServicesUsed                4931 non-null   int64  \n",
      "dtypes: float64(9), int64(15), object(1)\n",
      "memory usage: 963.2+ KB\n"
     ]
    }
   ],
   "source": [
    "df_mixed_encoded.info()"
   ]
  },
  {
   "cell_type": "markdown",
   "id": "310f4d5f",
   "metadata": {},
   "source": [
    "## Train-Test-Split"
   ]
  },
  {
   "cell_type": "markdown",
   "id": "fc5e01a3",
   "metadata": {},
   "source": [
    "### Regression"
   ]
  },
  {
   "cell_type": "code",
   "execution_count": 10,
   "id": "b0e2a58e",
   "metadata": {},
   "outputs": [
    {
     "name": "stdout",
     "output_type": "stream",
     "text": [
      "Data splits for REGRESSION (MIXED ENCODED) saved.\n"
     ]
    }
   ],
   "source": [
    "# Separating features and target for Regression \n",
    "X_reg_mixed = df_mixed_encoded.drop('MonthlyCharges', axis=1)\n",
    "y_reg_mixed = df_mixed_encoded['MonthlyCharges']\n",
    "\n",
    "# Train, test, split for regression\n",
    "X_train_reg_mixed, X_test_reg_mixed, y_train_reg_mixed, y_test_reg_mixed = train_test_split(\n",
    "    X_reg_mixed, y_reg_mixed, test_size=0.2, random_state=42\n",
    ")\n",
    "\n",
    "# Save the mixed encoded regression splits with specific names\n",
    "with open(\"processed_data/X_train_reg_mixed.pkl\", \"wb\") as f: pickle.dump(X_train_reg_mixed, f)\n",
    "with open(\"processed_data/X_test_reg_mixed.pkl\", \"wb\") as f: pickle.dump(X_test_reg_mixed, f)\n",
    "with open(\"processed_data/y_train_reg_mixed.pkl\", \"wb\") as f: pickle.dump(y_train_reg_mixed, f)\n",
    "with open(\"processed_data/y_test_reg_mixed.pkl\", \"wb\") as f: pickle.dump(y_test_reg_mixed, f)\n",
    "\n",
    "print(\"Data splits for REGRESSION (MIXED ENCODED) saved.\")"
   ]
  },
  {
   "cell_type": "markdown",
   "id": "37db865f",
   "metadata": {},
   "source": [
    "### Classification"
   ]
  },
  {
   "cell_type": "code",
   "execution_count": 11,
   "id": "3a68b30b",
   "metadata": {},
   "outputs": [
    {
     "name": "stdout",
     "output_type": "stream",
     "text": [
      "Data splits for CLASSIFICATION saved.\n"
     ]
    }
   ],
   "source": [
    "# Separating features and target for classification\n",
    "X_cls = df_mixed_encoded.drop('Churn', axis=1)\n",
    "y_cls = df_mixed_encoded['Churn']\n",
    "\n",
    "# train, test, split for classification\n",
    "X_train_cls, X_test_cls, y_train_cls, y_test_cls = train_test_split(\n",
    "    X_cls, y_cls, test_size=0.2, random_state=42, stratify=y_cls\n",
    ")\n",
    "\n",
    "# Save classification splits\n",
    "with open(\"processed_data/X_train_clf.pkl\", \"wb\") as f: pickle.dump(X_train_cls, f)\n",
    "with open(\"processed_data/X_test_clf.pkl\", \"wb\") as f: pickle.dump(X_test_cls, f)\n",
    "with open(\"processed_data/y_train_clf.pkl\", \"wb\") as f: pickle.dump(y_train_cls, f)\n",
    "with open(\"processed_data/y_test_clf.pkl\", \"wb\") as f: pickle.dump(y_test_cls, f)\n",
    "    \n",
    "print(\"Data splits for CLASSIFICATION saved.\")"
   ]
  },
  {
   "cell_type": "code",
   "execution_count": null,
   "id": "ec9a7581",
   "metadata": {},
   "outputs": [],
   "source": []
  },
  {
   "cell_type": "code",
   "execution_count": null,
   "id": "08be932e",
   "metadata": {},
   "outputs": [],
   "source": []
  }
 ],
 "metadata": {
  "kernelspec": {
   "display_name": ".venv",
   "language": "python",
   "name": "python3"
  },
  "language_info": {
   "codemirror_mode": {
    "name": "ipython",
    "version": 3
   },
   "file_extension": ".py",
   "mimetype": "text/x-python",
   "name": "python",
   "nbconvert_exporter": "python",
   "pygments_lexer": "ipython3",
   "version": "3.10.11"
  }
 },
 "nbformat": 4,
 "nbformat_minor": 5
}
